{
 "cells": [
  {
   "attachments": {},
   "cell_type": "markdown",
   "metadata": {},
   "source": [
    "### Natural Language Processing\n",
    "\n",
    "Regular expressions, tokenization\n",
    "difference between re.search and re.match - search searches the whole string, and match matches from the beginning unitil it no longer can "
   ]
  },
  {
   "attachments": {},
   "cell_type": "markdown",
   "metadata": {},
   "source": [
    "#### Bag of Words\n",
    "\n",
    "The more frequent the word is, the more important it might be.\n",
    "Use word_tokenize and Counter from collections. \n",
    "Text preprocessing: tokenization, lowercasing. Lemmatization - shortening words to their root stems. Remove stop words, punctuanction, unwanted tokens. "
   ]
  }
 ],
 "metadata": {
  "language_info": {
   "name": "python"
  },
  "orig_nbformat": 4
 },
 "nbformat": 4,
 "nbformat_minor": 2
}
