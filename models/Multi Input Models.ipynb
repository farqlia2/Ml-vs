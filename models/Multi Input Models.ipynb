{
 "cells": [
  {
   "cell_type": "code",
   "execution_count": 23,
   "metadata": {},
   "outputs": [],
   "source": [
    "from tensorflow.keras.layers import Input, Embedding, Subtract, Concatenate, Flatten, Multiply, Dense\n",
    "from tensorflow.keras.models import Model \n",
    "from tensorflow.keras.utils import plot_model\n",
    "from tensorflow.keras.optimizers import Adam\n",
    "from sklearn.model_selection import train_test_split\n",
    "import matplotlib.pyplot as plt\n",
    "import pandas as pd\n",
    "import numpy as np"
   ]
  },
  {
   "attachments": {},
   "cell_type": "markdown",
   "metadata": {},
   "source": [
    "### Multiple-Input Models\n",
    "We'll build a model which takes in three layers."
   ]
  },
  {
   "cell_type": "code",
   "execution_count": 3,
   "metadata": {},
   "outputs": [
    {
     "name": "stdout",
     "output_type": "stream",
     "text": [
      "   season  team_1  team_2  home  score_diff  score_1  score_2  won\n",
      "0    1985    3745    6664     0          17       81       64    1\n",
      "1    1985     126    7493     1           7       77       70    1\n",
      "2    1985     288    3593     1           7       63       56    1\n",
      "3    1985    1846    9881     1          16       70       54    1\n",
      "4    1985    2675   10298     1          12       86       74    1\n",
      "10888\n"
     ]
    }
   ],
   "source": [
    "season_data = pd.read_csv('./data/games_season.csv')\n",
    "print(season_data.head())\n",
    "\n",
    "X_train, X_test, y_train, y_test = train_test_split(season_data[['team_1', 'team_2', 'home']], \n",
    "                                                    season_data['score_diff'], \n",
    "                                                    test_size=.3)\n",
    "\n",
    "n_teams = pd.unique(season_data['team_1']).shape[0]\n",
    "print(n_teams)"
   ]
  },
  {
   "cell_type": "code",
   "execution_count": 4,
   "metadata": {},
   "outputs": [],
   "source": [
    "input_tensor = Input(shape=(1, ))\n",
    "\n",
    "teams_ratings = Embedding(\n",
    "    input_dim=n_teams,\n",
    "    output_dim=1,\n",
    "    input_length=1,\n",
    "    name='Team-Strength-Lookup'\n",
    ")\n",
    "\n",
    "embed_tensor = teams_ratings(input_tensor)\n",
    "flatten_tensor = Flatten()(embed_tensor)\n",
    "model = Model(input_tensor, flatten_tensor)\n",
    "\n",
    "\n",
    "input_1 = Input(shape=(1, ))\n",
    "input_2 = Input(shape=(1, ))\n",
    "input_3 = Input(shape=(1, ))\n",
    "\n",
    "output_tensor_1 = model(input_1)\n",
    "output_tensor_2 = model(input_2)\n",
    "\n",
    "concat_layer = Concatenate()([output_tensor_1, output_tensor_2, input_3])\n",
    "\n",
    "out_layer = Dense(1)(concat_layer)\n",
    "\n",
    "regular_season_model = Model([input_1, input_2, input_3], out_layer)\n",
    "\n",
    "regular_season_model.compile(optimizer='adam', loss='mean_absolute_error')"
   ]
  },
  {
   "cell_type": "code",
   "execution_count": 5,
   "metadata": {},
   "outputs": [
    {
     "name": "stdout",
     "output_type": "stream",
     "text": [
      "Epoch 1/10\n",
      "97/97 [==============================] - 1s 5ms/step - loss: 12.1384 - val_loss: 12.1946\n",
      "Epoch 2/10\n",
      "97/97 [==============================] - 0s 3ms/step - loss: 12.1063 - val_loss: 12.1634\n",
      "Epoch 3/10\n",
      "97/97 [==============================] - 0s 3ms/step - loss: 12.0673 - val_loss: 12.1260\n",
      "Epoch 4/10\n",
      "97/97 [==============================] - 0s 3ms/step - loss: 12.0210 - val_loss: 12.0825\n",
      "Epoch 5/10\n",
      "97/97 [==============================] - 0s 3ms/step - loss: 11.9678 - val_loss: 12.0330\n",
      "Epoch 6/10\n",
      "97/97 [==============================] - 0s 3ms/step - loss: 11.9074 - val_loss: 11.9773\n",
      "Epoch 7/10\n",
      "97/97 [==============================] - 0s 3ms/step - loss: 11.8402 - val_loss: 11.9163\n",
      "Epoch 8/10\n",
      "97/97 [==============================] - 0s 3ms/step - loss: 11.7664 - val_loss: 11.8501\n",
      "Epoch 9/10\n",
      "97/97 [==============================] - 0s 3ms/step - loss: 11.6872 - val_loss: 11.7794\n",
      "Epoch 10/10\n",
      "97/97 [==============================] - 0s 3ms/step - loss: 11.6031 - val_loss: 11.7050\n"
     ]
    }
   ],
   "source": [
    "epochs = 10\n",
    "\n",
    "history = regular_season_model.fit([X_train['team_1'], X_train['team_2'], \n",
    "                                    X_train['home']], \n",
    "                          y_train, \n",
    "                          batch_size=2048,\n",
    "                          epochs=epochs, \n",
    "                          validation_split=.1)"
   ]
  },
  {
   "cell_type": "code",
   "execution_count": 6,
   "metadata": {},
   "outputs": [
    {
     "data": {
      "image/png": "[encoded data removed]",
      "text/plain": [
       "<Figure size 432x288 with 1 Axes>"
      ]
     },
     "metadata": {
      "needs_background": "light"
     },
     "output_type": "display_data"
    }
   ],
   "source": [
    "plt.plot(np.arange(epochs), history.history['loss'], label='training loss')\n",
    "plt.plot(np.arange(epochs), history.history['val_loss'], label='validation loss')\n",
    "\n",
    "plt.legend()\n",
    "_ = plt.title('Model Training')"
   ]
  },
  {
   "cell_type": "code",
   "execution_count": 7,
   "metadata": {},
   "outputs": [
    {
     "name": "stdout",
     "output_type": "stream",
     "text": [
      "732/732 [==============================] - 1s 2ms/step - loss: 11.6399\n"
     ]
    }
   ],
   "source": [
    "# We could have evaluated this on the /data/games_season.csv data\n",
    "results = regular_season_model.evaluate([X_test['team_1'], X_test['team_2'], \n",
    "                                         X_test['home']], y_test,\n",
    "                               batch_size=128)"
   ]
  },
  {
   "cell_type": "code",
   "execution_count": 8,
   "metadata": {},
   "outputs": [
    {
     "name": "stdout",
     "output_type": "stream",
     "text": [
      "34/34 [==============================] - 0s 1ms/step - loss: 11.5261\n"
     ]
    },
    {
     "data": {
      "text/plain": [
       "11.526078224182129"
      ]
     },
     "execution_count": 8,
     "metadata": {},
     "output_type": "execute_result"
    }
   ],
   "source": [
    "tourney_data = pd.read_csv('./data/games_tourney.csv')\n",
    "\n",
    "regular_season_model.evaluate([tourney_data['team_1'], tourney_data['team_2'],\n",
    "                               tourney_data['home']],\n",
    "                     tourney_data['score_diff'], batch_size=128)"
   ]
  },
  {
   "attachments": {},
   "cell_type": "markdown",
   "metadata": {},
   "source": [
    "Note that the embedding layer adds a lot of parameters (mapping integers -> floats)"
   ]
  },
  {
   "cell_type": "code",
   "execution_count": 9,
   "metadata": {},
   "outputs": [
    {
     "name": "stdout",
     "output_type": "stream",
     "text": [
      "Model: \"model\"\n",
      "_________________________________________________________________\n",
      " Layer (type)                Output Shape              Param #   \n",
      "=================================================================\n",
      " input_1 (InputLayer)        [(None, 1)]               0         \n",
      "                                                                 \n",
      " Team-Strength-Lookup (Embed  (None, 1, 1)             10888     \n",
      " ding)                                                           \n",
      "                                                                 \n",
      " flatten (Flatten)           (None, 1)                 0         \n",
      "                                                                 \n",
      "=================================================================\n",
      "Total params: 10,888\n",
      "Trainable params: 10,888\n",
      "Non-trainable params: 0\n",
      "_________________________________________________________________\n"
     ]
    }
   ],
   "source": [
    "model.summary()"
   ]
  },
  {
   "cell_type": "code",
   "execution_count": 10,
   "metadata": {},
   "outputs": [
    {
     "data": {
      "text/plain": [
       "<matplotlib.image.AxesImage at 0x1fb1f024970>"
      ]
     },
     "execution_count": 10,
     "metadata": {},
     "output_type": "execute_result"
    },
    {
     "data": {
      "image/png": "[encoded data removed]",
      "text/plain": [
       "<Figure size 432x288 with 1 Axes>"
      ]
     },
     "metadata": {
      "needs_background": "light"
     },
     "output_type": "display_data"
    }
   ],
   "source": [
    "plot_model(regular_season_model, to_file='./data/model.png')\n",
    "\n",
    "data = plt.imread('./data/model.png')\n",
    "plt.imshow(data)"
   ]
  },
  {
   "cell_type": "code",
   "execution_count": 11,
   "metadata": {},
   "outputs": [
    {
     "name": "stdout",
     "output_type": "stream",
     "text": [
      "32/32 [==============================] - 0s 1ms/step - loss: 2.1626e-08\n"
     ]
    },
    {
     "data": {
      "text/plain": [
       "<keras.callbacks.History at 0x1fb1f04e380>"
      ]
     },
     "execution_count": 11,
     "metadata": {},
     "output_type": "execute_result"
    }
   ],
   "source": [
    "input_1 = Input(shape=(1, ))\n",
    "input_2 = Input(shape=(1, ))\n",
    "\n",
    "multiply_layer = Multiply()([input_1, input_2])\n",
    "\n",
    "mock_model = Model([input_1, input_2], multiply_layer)\n",
    "\n",
    "X = np.random.normal(size=(1000, 2))\n",
    "y = X[:, 0] * X[:, 1]\n",
    "\n",
    "mock_model.compile(optimizer='sgd', loss='mean_absolute_error')\n",
    "\n",
    "mock_model.fit([X[:, 0], X[:, 1]], y)"
   ]
  },
  {
   "cell_type": "code",
   "execution_count": 12,
   "metadata": {},
   "outputs": [
    {
     "name": "stdout",
     "output_type": "stream",
     "text": [
      "1/1 [==============================] - 0s 82ms/step\n"
     ]
    },
    {
     "data": {
      "text/plain": [
       "array([[20.]], dtype=float32)"
      ]
     },
     "execution_count": 12,
     "metadata": {},
     "output_type": "execute_result"
    }
   ],
   "source": [
    "mock_model.predict([np.array([[5]]), np.array([[4]])])"
   ]
  },
  {
   "attachments": {},
   "cell_type": "markdown",
   "metadata": {},
   "source": [
    "### Stacking Models\n",
    "\n",
    "Stacking models is a technique of building a model which as an input takes in predictions from different model. The datasets on which they are trained should be disjoint. "
   ]
  },
  {
   "cell_type": "code",
   "execution_count": 13,
   "metadata": {},
   "outputs": [
    {
     "name": "stdout",
     "output_type": "stream",
     "text": [
      "133/133 [==============================] - 0s 1ms/step\n",
      "Epoch 1/10\n",
      "15/15 [==============================] - 1s 12ms/step - loss: 11.6100 - val_loss: 11.3720\n",
      "Epoch 2/10\n",
      "15/15 [==============================] - 0s 3ms/step - loss: 11.5514 - val_loss: 11.3136\n",
      "Epoch 3/10\n",
      "15/15 [==============================] - 0s 4ms/step - loss: 11.4931 - val_loss: 11.2546\n",
      "Epoch 4/10\n",
      "15/15 [==============================] - 0s 4ms/step - loss: 11.4340 - val_loss: 11.1963\n",
      "Epoch 5/10\n",
      "15/15 [==============================] - 0s 4ms/step - loss: 11.3764 - val_loss: 11.1380\n",
      "Epoch 6/10\n",
      "15/15 [==============================] - 0s 4ms/step - loss: 11.3199 - val_loss: 11.0794\n",
      "Epoch 7/10\n",
      "15/15 [==============================] - 0s 4ms/step - loss: 11.2635 - val_loss: 11.0210\n",
      "Epoch 8/10\n",
      "15/15 [==============================] - 0s 5ms/step - loss: 11.2070 - val_loss: 10.9638\n",
      "Epoch 9/10\n",
      "15/15 [==============================] - 0s 3ms/step - loss: 11.1526 - val_loss: 10.9063\n",
      "Epoch 10/10\n",
      "15/15 [==============================] - 0s 4ms/step - loss: 11.0988 - val_loss: 10.8497\n"
     ]
    },
    {
     "data": {
      "text/plain": [
       "<keras.callbacks.History at 0x1fb1fda9db0>"
      ]
     },
     "execution_count": 13,
     "metadata": {},
     "output_type": "execute_result"
    }
   ],
   "source": [
    "input_tensor = Input(shape=(3,))\n",
    "\n",
    "output_tensor = Dense(1)(input_tensor)\n",
    "\n",
    "tourney_model = Model(input_tensor, output_tensor)\n",
    "\n",
    "tourney_data['pred'] = regular_season_model.predict([tourney_data['team_1'], \n",
    "                                                     tourney_data['team_2'], \n",
    "                                                     tourney_data['home']])\n",
    "\n",
    "tourney_model.compile(optimizer='adam', loss='mean_absolute_error')\n",
    "\n",
    "epochs = 10\n",
    "\n",
    "tourney_model.fit(tourney_data[['seed_diff', 'home', 'pred']], \n",
    "                 tourney_data['score_diff'], \n",
    "                 batch_size=256, \n",
    "                 validation_split=.1,\n",
    "                 epochs=epochs)"
   ]
  },
  {
   "attachments": {},
   "cell_type": "markdown",
   "metadata": {},
   "source": [
    "### Multi Output Models\n",
    "\n",
    "We'll build a model which performs classification and regression at the same time. "
   ]
  },
  {
   "cell_type": "code",
   "execution_count": 24,
   "metadata": {},
   "outputs": [],
   "source": [
    "input_tensor = Input(shape=(2,))\n",
    "\n",
    "output_tensor_reg = Dense(1, activation='linear', use_bias=False)(input_tensor)\n",
    "output_tensor_prob = Dense(1, activation='sigmoid', use_bias=False)(output_tensor_reg)\n",
    "\n",
    "multi_out_model = Model(input_tensor, [output_tensor_reg, output_tensor_prob])\n",
    "\n",
    "multi_out_model.compile(loss=['mae', 'binary_crossentropy'], optimizer=Adam(learning_rate=0.01))"
   ]
  },
  {
   "cell_type": "code",
   "execution_count": 26,
   "metadata": {},
   "outputs": [
    {
     "name": "stdout",
     "output_type": "stream",
     "text": [
      "Epoch 1/10\n",
      "30/30 [==============================] - 0s 5ms/step - loss: 10.0283 - dense_12_loss: 9.4727 - dense_13_loss: 0.5556 - val_loss: 9.4663 - val_dense_12_loss: 8.9174 - val_dense_13_loss: 0.5490\n",
      "Epoch 2/10\n",
      "30/30 [==============================] - 0s 3ms/step - loss: 9.9046 - dense_12_loss: 9.3479 - dense_13_loss: 0.5568 - val_loss: 9.3430 - val_dense_12_loss: 8.7942 - val_dense_13_loss: 0.5489\n",
      "Epoch 3/10\n",
      "30/30 [==============================] - 0s 3ms/step - loss: 9.8267 - dense_12_loss: 9.2707 - dense_13_loss: 0.5559 - val_loss: 9.2675 - val_dense_12_loss: 8.7193 - val_dense_13_loss: 0.5481\n",
      "Epoch 4/10\n",
      "30/30 [==============================] - 0s 3ms/step - loss: 9.7730 - dense_12_loss: 9.2183 - dense_13_loss: 0.5547 - val_loss: 9.2326 - val_dense_12_loss: 8.6847 - val_dense_13_loss: 0.5479\n",
      "Epoch 5/10\n",
      "30/30 [==============================] - 0s 3ms/step - loss: 9.7426 - dense_12_loss: 9.1884 - dense_13_loss: 0.5542 - val_loss: 9.2102 - val_dense_12_loss: 8.6623 - val_dense_13_loss: 0.5479\n",
      "Epoch 6/10\n",
      "30/30 [==============================] - 0s 3ms/step - loss: 9.7238 - dense_12_loss: 9.1697 - dense_13_loss: 0.5541 - val_loss: 9.1997 - val_dense_12_loss: 8.6516 - val_dense_13_loss: 0.5481\n",
      "Epoch 7/10\n",
      "30/30 [==============================] - 0s 3ms/step - loss: 9.7124 - dense_12_loss: 9.1584 - dense_13_loss: 0.5540 - val_loss: 9.1920 - val_dense_12_loss: 8.6440 - val_dense_13_loss: 0.5479\n",
      "Epoch 8/10\n",
      "30/30 [==============================] - 0s 3ms/step - loss: 9.7063 - dense_12_loss: 9.1523 - dense_13_loss: 0.5540 - val_loss: 9.1893 - val_dense_12_loss: 8.6413 - val_dense_13_loss: 0.5480\n",
      "Epoch 9/10\n",
      "30/30 [==============================] - 0s 3ms/step - loss: 9.7028 - dense_12_loss: 9.1489 - dense_13_loss: 0.5539 - val_loss: 9.1924 - val_dense_12_loss: 8.6443 - val_dense_13_loss: 0.5481\n",
      "Epoch 10/10\n",
      "30/30 [==============================] - 0s 3ms/step - loss: 9.7006 - dense_12_loss: 9.1467 - dense_13_loss: 0.5539 - val_loss: 9.1941 - val_dense_12_loss: 8.6459 - val_dense_13_loss: 0.5483\n"
     ]
    }
   ],
   "source": [
    "epochs = 10\n",
    "\n",
    "history = multi_out_model.fit(tourney_data[['seed_diff', 'pred']], [tourney_data['score_diff'], tourney_data['won']],\n",
    "                    batch_size=128, \n",
    "                    epochs=epochs,\n",
    "                    validation_split=.1)"
   ]
  },
  {
   "cell_type": "code",
   "execution_count": 27,
   "metadata": {},
   "outputs": [
    {
     "data": {
      "image/png": "[encoded data removed]",
      "text/plain": [
       "<Figure size 432x288 with 1 Axes>"
      ]
     },
     "metadata": {
      "needs_background": "light"
     },
     "output_type": "display_data"
    }
   ],
   "source": [
    "plt.plot(np.arange(epochs), history.history['loss'], label='training loss')\n",
    "plt.plot(np.arange(epochs), history.history['val_loss'], label='validation loss')\n",
    "\n",
    "plt.legend()\n",
    "_ = plt.title('Model Training')"
   ]
  },
  {
   "cell_type": "code",
   "execution_count": 28,
   "metadata": {},
   "outputs": [
    {
     "data": {
      "text/plain": [
       "season        2001.193198\n",
       "team_1        5589.146906\n",
       "team_2        5589.146906\n",
       "home             0.000000\n",
       "seed_diff        0.000000\n",
       "score_diff       0.000000\n",
       "score_1         71.131318\n",
       "score_2         71.131318\n",
       "won              0.500000\n",
       "pred            -0.006498\n",
       "dtype: float64"
      ]
     },
     "execution_count": 28,
     "metadata": {},
     "output_type": "execute_result"
    }
   ],
   "source": [
    "tourney_data.mean()"
   ]
  },
  {
   "cell_type": "code",
   "execution_count": 30,
   "metadata": {},
   "outputs": [
    {
     "data": {
      "text/plain": [
       "[array([[1.1079432],\n",
       "        [2.2111952]], dtype=float32),\n",
       " array([[0.13754821]], dtype=float32)]"
      ]
     },
     "execution_count": 30,
     "metadata": {},
     "output_type": "execute_result"
    }
   ],
   "source": [
    "multi_out_model.get_weights()"
   ]
  },
  {
   "cell_type": "code",
   "execution_count": 36,
   "metadata": {},
   "outputs": [
    {
     "name": "stdout",
     "output_type": "stream",
     "text": [
      "1/1 [==============================] - 0s 26ms/step\n"
     ]
    },
    {
     "data": {
      "text/plain": [
       "[array([[3.3191385]], dtype=float32), array([[0.6121934]], dtype=float32)]"
      ]
     },
     "execution_count": 36,
     "metadata": {},
     "output_type": "execute_result"
    }
   ],
   "source": [
    "prediction = multi_out_model.predict(np.array([[1, 1]]))\n",
    "prediction"
   ]
  },
  {
   "attachments": {},
   "cell_type": "markdown",
   "metadata": {},
   "source": [
    "What happened is that the layer with probability part took the regression output and predicted the probability of winning a game for the team 1 given the score"
   ]
  },
  {
   "cell_type": "code",
   "execution_count": 38,
   "metadata": {},
   "outputs": [
    {
     "data": {
      "text/plain": [
       "array([0.6121934], dtype=float32)"
      ]
     },
     "execution_count": 38,
     "metadata": {},
     "output_type": "execute_result"
    }
   ],
   "source": [
    "from scipy.special import expit as sigmoid\n",
    "\n",
    "sigmoid(multi_out_model.get_weights()[1][0] * prediction[0][0])"
   ]
  },
  {
   "cell_type": "code",
   "execution_count": null,
   "metadata": {},
   "outputs": [],
   "source": []
  }
 ],
 "metadata": {
  "kernelspec": {
   "display_name": "DataCampTutorials",
   "language": "python",
   "name": "python3"
  },
  "language_info": {
   "codemirror_mode": {
    "name": "ipython",
    "version": 3
   },
   "file_extension": ".py",
   "mimetype": "text/x-python",
   "name": "python",
   "nbconvert_exporter": "python",
   "pygments_lexer": "ipython3",
   "version": "3.10.4"
  },
  "orig_nbformat": 4
 },
 "nbformat": 4,
 "nbformat_minor": 2
}
