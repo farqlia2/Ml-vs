{
 "cells": [
  {
   "cell_type": "code",
   "execution_count": 1,
   "metadata": {},
   "outputs": [
    {
     "name": "stderr",
     "output_type": "stream",
     "text": [
      "c:\\Users\\julia\\anaconda3\\envs\\DataCampTutorials\\lib\\site-packages\\scipy\\__init__.py:146: UserWarning: A NumPy version >=1.16.5 and <1.23.0 is required for this version of SciPy (detected version 1.24.2\n",
      "  warnings.warn(f\"A NumPy version >={np_minversion} and <{np_maxversion}\"\n"
     ]
    }
   ],
   "source": [
    "import tensorflow as tf\n",
    "from tensorflow.keras.datasets import mnist \n",
    "from tensorflow.keras.utils import to_categorical\n",
    "from tensorflow.keras.models import Sequential\n",
    "from tensorflow.keras.layers import Dense \n",
    "from tensorflow.keras.optimizers import SGD\n",
    "from tensorflow.keras.callbacks import EarlyStopping\n",
    "import matplotlib.pyplot as plt\n",
    "import numpy as np\n",
    "from sklearn.model_selection import train_test_split"
   ]
  },
  {
   "cell_type": "code",
   "execution_count": null,
   "metadata": {},
   "outputs": [],
   "source": [
    "(X_train, y_train), (X_valid, y_valid) = mnist.load_data()"
   ]
  },
  {
   "cell_type": "code",
   "execution_count": null,
   "metadata": {},
   "outputs": [],
   "source": [
    "X_train, X_test, y_train, y_test = train_test_split(X_train, \n",
    "                                                    y_train, test_size=.3,\n",
    "                                                    shuffle=True)"
   ]
  },
  {
   "cell_type": "code",
   "execution_count": null,
   "metadata": {},
   "outputs": [
    {
     "name": "stdout",
     "output_type": "stream",
     "text": [
      "(60000, 28, 28)\n",
      "784\n"
     ]
    }
   ],
   "source": [
    "print(X_train.shape)\n",
    "print(28 * 28)"
   ]
  },
  {
   "cell_type": "code",
   "execution_count": null,
   "metadata": {},
   "outputs": [
    {
     "data": {
      "text/plain": [
       "<matplotlib.image.AxesImage at 0x1c1d9948b80>"
      ]
     },
     "execution_count": 10,
     "metadata": {},
     "output_type": "execute_result"
    },
    {
     "data": {
      "image/png": "[encoded data removed]",
      "text/plain": [
       "<Figure size 432x288 with 1 Axes>"
      ]
     },
     "metadata": {
      "needs_background": "light"
     },
     "output_type": "display_data"
    }
   ],
   "source": [
    "plt.imshow(X_train[0], cmap='Greys')"
   ]
  },
  {
   "cell_type": "code",
   "execution_count": null,
   "metadata": {},
   "outputs": [],
   "source": [
    "X_train = X_train.reshape(-1, 784).astype('float')\n",
    "X_valid = X_valid.reshape(-1, 784).astype('float')\n",
    "X_test = X_test.reshape(-1, 784).astype('float')\n",
    "\n",
    "X_train /= 255.0\n",
    "X_valid /= 255.0\n",
    "X_test /= 255.0\n",
    "\n",
    "n_classes=10\n",
    "\n",
    "y_train = to_categorical(y_train, n_classes)\n",
    "y_valid = to_categorical(y_valid, n_classes)\n",
    "y_test = to_categorical(y_test, n_classes)"
   ]
  },
  {
   "cell_type": "code",
   "execution_count": null,
   "metadata": {},
   "outputs": [
    {
     "name": "stderr",
     "output_type": "stream",
     "text": [
      "c:\\Users\\julia\\anaconda3\\envs\\DataCampTutorials\\lib\\site-packages\\keras\\optimizers\\optimizer_v2\\gradient_descent.py:111: UserWarning: The `lr` argument is deprecated, use `learning_rate` instead.\n",
      "  super().__init__(name, **kwargs)\n"
     ]
    }
   ],
   "source": [
    "input_shape = (784, )\n",
    "\n",
    "model = Sequential()\n",
    "model.add(Dense(10, activation='relu', input_shape=input_shape))\n",
    "# model.add(Dense(10, activation='relu'))\n",
    "model.add(Dense(10, activation='softmax'))\n",
    "\n",
    "early_stopping = EarlyStopping(patience=2)\n",
    "\n",
    "sgd = SGD(lr=0.01)\n",
    "model.compile(optimizer=sgd, loss='categorical_crossentropy', \n",
    "              metrics=['accuracy'])"
   ]
  },
  {
   "cell_type": "code",
   "execution_count": null,
   "metadata": {},
   "outputs": [
    {
     "name": "stdout",
     "output_type": "stream",
     "text": [
      "Epoch 1/10\n",
      "1875/1875 [==============================] - 6s 3ms/step - loss: 1.0520 - accuracy: 0.6910 - val_loss: 0.5331 - val_accuracy: 0.8696\n",
      "Epoch 2/10\n",
      "1875/1875 [==============================] - 4s 2ms/step - loss: 0.4531 - accuracy: 0.8780 - val_loss: 0.3783 - val_accuracy: 0.8959\n",
      "Epoch 3/10\n",
      "1875/1875 [==============================] - 9s 5ms/step - loss: 0.3718 - accuracy: 0.8955 - val_loss: 0.3348 - val_accuracy: 0.9037\n",
      "Epoch 4/10\n",
      "1875/1875 [==============================] - 11s 6ms/step - loss: 0.3405 - accuracy: 0.9027 - val_loss: 0.3168 - val_accuracy: 0.9088\n",
      "Epoch 5/10\n",
      "1875/1875 [==============================] - 9s 5ms/step - loss: 0.3220 - accuracy: 0.9080 - val_loss: 0.3072 - val_accuracy: 0.9119\n",
      "Epoch 6/10\n",
      "1875/1875 [==============================] - 7s 4ms/step - loss: 0.3094 - accuracy: 0.9116 - val_loss: 0.2974 - val_accuracy: 0.9139\n",
      "Epoch 7/10\n",
      "1875/1875 [==============================] - 5s 3ms/step - loss: 0.2996 - accuracy: 0.9149 - val_loss: 0.2917 - val_accuracy: 0.9173\n",
      "Epoch 8/10\n",
      "1875/1875 [==============================] - 4s 2ms/step - loss: 0.2921 - accuracy: 0.9174 - val_loss: 0.2840 - val_accuracy: 0.9190\n",
      "Epoch 9/10\n",
      "1875/1875 [==============================] - 4s 2ms/step - loss: 0.2861 - accuracy: 0.9188 - val_loss: 0.2791 - val_accuracy: 0.9216\n",
      "Epoch 10/10\n",
      "1875/1875 [==============================] - 4s 2ms/step - loss: 0.2808 - accuracy: 0.9205 - val_loss: 0.2795 - val_accuracy: 0.9222\n"
     ]
    }
   ],
   "source": [
    "history = model.fit(X_train, y_train, epochs=10, validation_data=(X_valid, y_valid),\n",
    "          callbacks=[early_stopping])"
   ]
  },
  {
   "cell_type": "code",
   "execution_count": null,
   "metadata": {},
   "outputs": [
    {
     "data": {
      "text/plain": [
       "[<matplotlib.lines.Line2D at 0x1c1d50441c0>]"
      ]
     },
     "execution_count": 35,
     "metadata": {},
     "output_type": "execute_result"
    },
    {
     "data": {
      "image/png": "[encoded data removed]",
      "text/plain": [
       "<Figure size 432x288 with 1 Axes>"
      ]
     },
     "metadata": {
      "needs_background": "light"
     },
     "output_type": "display_data"
    }
   ],
   "source": [
    "plt.subplot(111)\n",
    "\n",
    "epochs = list(range(10))\n",
    "plt.plot(epochs, history.history['accuracy'])"
   ]
  },
  {
   "cell_type": "code",
   "execution_count": null,
   "metadata": {},
   "outputs": [
    {
     "name": "stdout",
     "output_type": "stream",
     "text": [
      "1/1 [==============================] - 0s 21ms/step\n",
      "[[8.3427025e-05 2.5287999e-10 1.9966759e-04 7.3029972e-03 4.9436998e-08\n",
      "  8.8185470e-06 2.7523117e-09 9.9230909e-01 4.3125106e-06 9.1536087e-05]]\n",
      "7\n"
     ]
    },
    {
     "data": {
      "image/png": "[encoded data removed]",
      "text/plain": [
       "<Figure size 432x288 with 2 Axes>"
      ]
     },
     "metadata": {
      "needs_background": "light"
     },
     "output_type": "display_data"
    }
   ],
   "source": [
    "pred = model.predict(X_valid[0].reshape(1, 784))\n",
    "plt.subplot(121)\n",
    "plt.imshow(X_valid[0].reshape(28, 28), cmap='Greys')\n",
    "print(pred)\n",
    "\n",
    "plt.subplot(122)\n",
    "plt.bar(range(10), pred[0])\n",
    "print(np.argmax(pred))"
   ]
  },
  {
   "attachments": {},
   "cell_type": "markdown",
   "metadata": {},
   "source": [
    "#### Tuning Hyperparameters \n",
    "\n",
    "We can set hyperparameters to many different values. To find the most optimal ones, we can try using random search and test those on validation set or k-fold-cross validation."
   ]
  },
  {
   "cell_type": "code",
   "execution_count": null,
   "metadata": {},
   "outputs": [],
   "source": [
    "from sklearn.datasets import fetch_california_housing\n",
    "from models import build_model"
   ]
  },
  {
   "cell_type": "code",
   "execution_count": null,
   "metadata": {},
   "outputs": [],
   "source": [
    "housing = fetch_california_housing()"
   ]
  },
  {
   "cell_type": "code",
   "execution_count": null,
   "metadata": {},
   "outputs": [
    {
     "name": "stdout",
     "output_type": "stream",
     "text": [
      "(20640, 8)\n",
      "(20640,)\n"
     ]
    }
   ],
   "source": [
    "print(housing['data'].shape)\n",
    "print(housing['target'].shape)"
   ]
  },
  {
   "cell_type": "code",
   "execution_count": null,
   "metadata": {},
   "outputs": [],
   "source": [
    "X_train_full, X_test, y_train_full, y_test = train_test_split(housing.data, housing.target,\n",
    "                                                    shuffle=True)\n",
    "X_train, X_valid, y_train, y_valid = train_test_split(X_train_full, \n",
    "                                                    y_train_full,\n",
    "                                                    shuffle=True)"
   ]
  },
  {
   "cell_type": "code",
   "execution_count": null,
   "metadata": {},
   "outputs": [],
   "source": [
    "from sklearn.preprocessing import StandardScaler\n",
    "\n",
    "scaler = StandardScaler()\n",
    "scaler.fit_transform(X_train)\n",
    "scaler.transform(X_valid)\n",
    "_ = scaler.transform(X_test)"
   ]
  },
  {
   "cell_type": "code",
   "execution_count": null,
   "metadata": {},
   "outputs": [],
   "source": [
    "from sklearn.model_selection import RandomizedSearchCV"
   ]
  },
  {
   "cell_type": "code",
   "execution_count": null,
   "metadata": {},
   "outputs": [
    {
     "name": "stderr",
     "output_type": "stream",
     "text": [
      "C:\\Users\\julia\\AppData\\Local\\Temp\\ipykernel_18100\\2189228328.py:1: DeprecationWarning: KerasRegressor is deprecated, use Sci-Keras (https://github.com/adriangb/scikeras) instead. See https://www.adriangb.com/scikeras/stable/migration.html for help migrating.\n",
      "  keras_reg = tf.keras.wrappers.scikit_learn.KerasRegressor(build_model)\n"
     ]
    }
   ],
   "source": [
    "keras_reg = tf.keras.wrappers.scikit_learn.KerasRegressor(build_model)"
   ]
  },
  {
   "cell_type": "code",
   "execution_count": null,
   "metadata": {},
   "outputs": [
    {
     "name": "stdout",
     "output_type": "stream",
     "text": [
      "Epoch 1/10\n"
     ]
    },
    {
     "name": "stderr",
     "output_type": "stream",
     "text": [
      "c:\\Users\\julia\\anaconda3\\envs\\DataCampTutorials\\lib\\site-packages\\keras\\optimizers\\optimizer_v2\\gradient_descent.py:111: UserWarning: The `lr` argument is deprecated, use `learning_rate` instead.\n",
      "  super().__init__(name, **kwargs)\n"
     ]
    },
    {
     "name": "stdout",
     "output_type": "stream",
     "text": [
      "363/363 [==============================] - 2s 3ms/step - loss: 3841098937251648887586816.0000 - val_loss: 798959825256267644928.0000\n",
      "Epoch 2/10\n",
      "363/363 [==============================] - 1s 2ms/step - loss: 181727088324770791424.0000 - val_loss: 10116756020748353536.0000\n",
      "Epoch 3/10\n",
      "363/363 [==============================] - 1s 2ms/step - loss: 2301096142638678016.0000 - val_loss: 128101926498729984.0000\n",
      "Epoch 4/10\n",
      "363/363 [==============================] - 1s 2ms/step - loss: 29137371668676608.0000 - val_loss: 1622073050923008.0000\n",
      "Epoch 5/10\n",
      "363/363 [==============================] - 1s 2ms/step - loss: 368948226818048.0000 - val_loss: 20539345207296.0000\n",
      "Epoch 6/10\n",
      "363/363 [==============================] - 1s 2ms/step - loss: 4671770460160.0000 - val_loss: 260076601344.0000\n",
      "Epoch 7/10\n",
      "363/363 [==============================] - 1s 2ms/step - loss: 59155619840.0000 - val_loss: 3293190912.0000\n",
      "Epoch 8/10\n",
      "363/363 [==============================] - 1s 2ms/step - loss: 749050944.0000 - val_loss: 41699804.0000\n",
      "Epoch 9/10\n",
      "363/363 [==============================] - 1s 2ms/step - loss: 9484799.0000 - val_loss: 528031.4375\n",
      "Epoch 10/10\n",
      "363/363 [==============================] - 1s 2ms/step - loss: 120100.2422 - val_loss: 6689.2207\n",
      "162/162 [==============================] - 0s 1ms/step - loss: 6686.2437\n"
     ]
    }
   ],
   "source": [
    "keras_reg.fit(X_train, y_train, epochs=10, \n",
    "              validation_data=(X_valid, y_valid), \n",
    "              callbacks=[EarlyStopping(patience=2)])\n",
    "\n",
    "mse_test = keras_reg.score(X_test, y_test)\n"
   ]
  },
  {
   "cell_type": "code",
   "execution_count": null,
   "metadata": {},
   "outputs": [
    {
     "name": "stdout",
     "output_type": "stream",
     "text": [
      "Epoch 1/10\n"
     ]
    },
    {
     "name": "stderr",
     "output_type": "stream",
     "text": [
      "c:\\Users\\julia\\anaconda3\\envs\\DataCampTutorials\\lib\\site-packages\\keras\\optimizers\\optimizer_v2\\gradient_descent.py:111: UserWarning: The `lr` argument is deprecated, use `learning_rate` instead.\n",
      "  super().__init__(name, **kwargs)\n"
     ]
    },
    {
     "name": "stdout",
     "output_type": "stream",
     "text": [
      "242/242 [==============================] - 1s 3ms/step - loss: nan - val_loss: nan\n",
      "Epoch 2/10\n",
      "242/242 [==============================] - 1s 2ms/step - loss: nan - val_loss: nan\n",
      "121/121 [==============================] - 0s 1ms/step - loss: nan\n",
      "Epoch 1/10\n"
     ]
    },
    {
     "name": "stderr",
     "output_type": "stream",
     "text": [
      "c:\\Users\\julia\\anaconda3\\envs\\DataCampTutorials\\lib\\site-packages\\keras\\optimizers\\optimizer_v2\\gradient_descent.py:111: UserWarning: The `lr` argument is deprecated, use `learning_rate` instead.\n",
      "  super().__init__(name, **kwargs)\n"
     ]
    },
    {
     "name": "stdout",
     "output_type": "stream",
     "text": [
      "242/242 [==============================] - 1s 3ms/step - loss: 3342082140857696256.0000 - val_loss: 308962633187328.0000\n",
      "Epoch 2/10\n",
      "242/242 [==============================] - 1s 2ms/step - loss: 55921388552192.0000 - val_loss: 1176949227520.0000\n",
      "Epoch 3/10\n",
      "242/242 [==============================] - 1s 2ms/step - loss: 213025079296.0000 - val_loss: 4483428352.0000\n",
      "Epoch 4/10\n",
      "242/242 [==============================] - 1s 3ms/step - loss: 811489216.0000 - val_loss: 17078916.0000\n",
      "Epoch 5/10\n",
      "242/242 [==============================] - 1s 3ms/step - loss: 3091237.7500 - val_loss: 65048.5430\n",
      "Epoch 6/10\n",
      "242/242 [==============================] - 1s 3ms/step - loss: 11776.7412 - val_loss: 249.3193\n",
      "Epoch 7/10\n",
      "242/242 [==============================] - 1s 2ms/step - loss: 46.2595 - val_loss: 2.2576\n",
      "Epoch 8/10\n",
      "242/242 [==============================] - 1s 2ms/step - loss: 1.4818 - val_loss: 1.3311\n",
      "Epoch 9/10\n",
      "242/242 [==============================] - 1s 3ms/step - loss: 1.3128 - val_loss: 1.3300\n",
      "Epoch 10/10\n",
      "242/242 [==============================] - 1s 2ms/step - loss: 1.3129 - val_loss: 1.3292\n",
      "121/121 [==============================] - 0s 1ms/step - loss: 1.3417\n",
      "Epoch 1/10\n"
     ]
    },
    {
     "name": "stderr",
     "output_type": "stream",
     "text": [
      "c:\\Users\\julia\\anaconda3\\envs\\DataCampTutorials\\lib\\site-packages\\keras\\optimizers\\optimizer_v2\\gradient_descent.py:111: UserWarning: The `lr` argument is deprecated, use `learning_rate` instead.\n",
      "  super().__init__(name, **kwargs)\n"
     ]
    },
    {
     "name": "stdout",
     "output_type": "stream",
     "text": [
      "242/242 [==============================] - 1s 3ms/step - loss: nan - val_loss: nan\n",
      "Epoch 2/10\n",
      "242/242 [==============================] - 1s 2ms/step - loss: nan - val_loss: nan\n",
      "121/121 [==============================] - 0s 1ms/step - loss: nan\n",
      "Epoch 1/10\n"
     ]
    },
    {
     "name": "stderr",
     "output_type": "stream",
     "text": [
      "c:\\Users\\julia\\anaconda3\\envs\\DataCampTutorials\\lib\\site-packages\\keras\\optimizers\\optimizer_v2\\gradient_descent.py:111: UserWarning: The `lr` argument is deprecated, use `learning_rate` instead.\n",
      "  super().__init__(name, **kwargs)\n"
     ]
    },
    {
     "name": "stdout",
     "output_type": "stream",
     "text": [
      "242/242 [==============================] - 1s 3ms/step - loss: 7682742272.0000 - val_loss: 226636.4688\n",
      "Epoch 2/10\n",
      "242/242 [==============================] - 1s 3ms/step - loss: 187567.6406 - val_loss: 152986.3125\n",
      "Epoch 3/10\n",
      "242/242 [==============================] - 1s 2ms/step - loss: 126612.9688 - val_loss: 103270.8750\n",
      "Epoch 4/10\n",
      "242/242 [==============================] - 1s 3ms/step - loss: 85467.0234 - val_loss: 69711.3750\n",
      "Epoch 5/10\n",
      "242/242 [==============================] - 1s 2ms/step - loss: 57692.5742 - val_loss: 47057.8711\n",
      "Epoch 6/10\n",
      "242/242 [==============================] - 1s 2ms/step - loss: 38944.2500 - val_loss: 31766.1543\n",
      "Epoch 7/10\n",
      "242/242 [==============================] - 1s 3ms/step - loss: 26288.6719 - val_loss: 21443.7520\n",
      "Epoch 8/10\n",
      "242/242 [==============================] - 1s 3ms/step - loss: 17745.8906 - val_loss: 14475.8730\n",
      "Epoch 9/10\n",
      "242/242 [==============================] - 1s 2ms/step - loss: 11979.3174 - val_loss: 9772.2832\n",
      "Epoch 10/10\n",
      "242/242 [==============================] - 1s 3ms/step - loss: 8086.7168 - val_loss: 6597.1655\n",
      "121/121 [==============================] - 0s 2ms/step - loss: 6595.3037\n",
      "Epoch 1/10\n"
     ]
    },
    {
     "name": "stderr",
     "output_type": "stream",
     "text": [
      "c:\\Users\\julia\\anaconda3\\envs\\DataCampTutorials\\lib\\site-packages\\keras\\optimizers\\optimizer_v2\\gradient_descent.py:111: UserWarning: The `lr` argument is deprecated, use `learning_rate` instead.\n",
      "  super().__init__(name, **kwargs)\n"
     ]
    },
    {
     "name": "stdout",
     "output_type": "stream",
     "text": [
      "242/242 [==============================] - 1s 3ms/step - loss: nan - val_loss: nan\n",
      "Epoch 2/10\n",
      "242/242 [==============================] - 1s 3ms/step - loss: nan - val_loss: nan\n",
      "121/121 [==============================] - 0s 2ms/step - loss: nan\n",
      "Epoch 1/10\n"
     ]
    },
    {
     "name": "stderr",
     "output_type": "stream",
     "text": [
      "c:\\Users\\julia\\anaconda3\\envs\\DataCampTutorials\\lib\\site-packages\\keras\\optimizers\\optimizer_v2\\gradient_descent.py:111: UserWarning: The `lr` argument is deprecated, use `learning_rate` instead.\n",
      "  super().__init__(name, **kwargs)\n"
     ]
    },
    {
     "name": "stdout",
     "output_type": "stream",
     "text": [
      "242/242 [==============================] - 1s 3ms/step - loss: nan - val_loss: nan\n",
      "Epoch 2/10\n",
      "242/242 [==============================] - 1s 3ms/step - loss: nan - val_loss: nan\n",
      "121/121 [==============================] - 0s 2ms/step - loss: nan\n",
      "Epoch 1/10\n"
     ]
    },
    {
     "name": "stderr",
     "output_type": "stream",
     "text": [
      "c:\\Users\\julia\\anaconda3\\envs\\DataCampTutorials\\lib\\site-packages\\keras\\optimizers\\optimizer_v2\\gradient_descent.py:111: UserWarning: The `lr` argument is deprecated, use `learning_rate` instead.\n",
      "  super().__init__(name, **kwargs)\n"
     ]
    },
    {
     "name": "stdout",
     "output_type": "stream",
     "text": [
      "242/242 [==============================] - 1s 3ms/step - loss: nan - val_loss: nan     \n",
      "Epoch 2/10\n",
      "242/242 [==============================] - 1s 2ms/step - loss: nan - val_loss: nan\n",
      "121/121 [==============================] - 0s 1ms/step - loss: nan\n",
      "Epoch 1/10\n"
     ]
    },
    {
     "name": "stderr",
     "output_type": "stream",
     "text": [
      "c:\\Users\\julia\\anaconda3\\envs\\DataCampTutorials\\lib\\site-packages\\keras\\optimizers\\optimizer_v2\\gradient_descent.py:111: UserWarning: The `lr` argument is deprecated, use `learning_rate` instead.\n",
      "  super().__init__(name, **kwargs)\n"
     ]
    },
    {
     "name": "stdout",
     "output_type": "stream",
     "text": [
      "242/242 [==============================] - 1s 3ms/step - loss: 198291073531904.0000 - val_loss: 5195089920.0000\n",
      "Epoch 2/10\n",
      "242/242 [==============================] - 1s 2ms/step - loss: 713182720.0000 - val_loss: 3189846.2500\n",
      "Epoch 3/10\n",
      "242/242 [==============================] - 1s 2ms/step - loss: 437906.8438 - val_loss: 1959.9922\n",
      "Epoch 4/10\n",
      "242/242 [==============================] - 1s 2ms/step - loss: 270.1742 - val_loss: 2.5099\n",
      "Epoch 5/10\n",
      "242/242 [==============================] - 1s 2ms/step - loss: 1.4806 - val_loss: 1.3302\n",
      "Epoch 6/10\n",
      "242/242 [==============================] - 1s 2ms/step - loss: 1.3129 - val_loss: 1.3295\n",
      "Epoch 7/10\n",
      "242/242 [==============================] - 1s 2ms/step - loss: 1.3128 - val_loss: 1.3292\n",
      "Epoch 8/10\n",
      "242/242 [==============================] - 1s 2ms/step - loss: 1.3129 - val_loss: 1.3294\n",
      "Epoch 9/10\n",
      "242/242 [==============================] - 1s 2ms/step - loss: 1.3126 - val_loss: 1.3293\n",
      "121/121 [==============================] - 0s 1ms/step - loss: 1.3417\n",
      "Epoch 1/10\n"
     ]
    },
    {
     "name": "stderr",
     "output_type": "stream",
     "text": [
      "c:\\Users\\julia\\anaconda3\\envs\\DataCampTutorials\\lib\\site-packages\\keras\\optimizers\\optimizer_v2\\gradient_descent.py:111: UserWarning: The `lr` argument is deprecated, use `learning_rate` instead.\n",
      "  super().__init__(name, **kwargs)\n"
     ]
    },
    {
     "name": "stdout",
     "output_type": "stream",
     "text": [
      "242/242 [==============================] - 1s 3ms/step - loss: 6571870057763846600405848948736.0000 - val_loss: 214971622373424210546524160.0000\n",
      "Epoch 2/10\n",
      "242/242 [==============================] - 1s 3ms/step - loss: 29511366341066600250081280.0000 - val_loss: 131993443434013520822272.0000\n",
      "Epoch 3/10\n",
      "242/242 [==============================] - 1s 2ms/step - loss: 18120083356037580587008.0000 - val_loss: 81044518298252738560.0000\n",
      "Epoch 4/10\n",
      "242/242 [==============================] - 1s 2ms/step - loss: 11125792135209549824.0000 - val_loss: 49761692954918912.0000\n",
      "Epoch 5/10\n",
      "242/242 [==============================] - 1s 2ms/step - loss: 6831282386370560.0000 - val_loss: 30553843695616.0000\n",
      "Epoch 6/10\n",
      "242/242 [==============================] - 1s 2ms/step - loss: 4194431139840.0000 - val_loss: 18760165376.0000\n",
      "Epoch 7/10\n",
      "242/242 [==============================] - 1s 3ms/step - loss: 2575397120.0000 - val_loss: 11518877.0000\n",
      "Epoch 8/10\n",
      "242/242 [==============================] - 1s 3ms/step - loss: 1581310.2500 - val_loss: 7078.0713\n",
      "Epoch 9/10\n",
      "242/242 [==============================] - 1s 3ms/step - loss: 972.5071 - val_loss: 5.7478\n",
      "Epoch 10/10\n",
      "242/242 [==============================] - 1s 2ms/step - loss: 1.9245 - val_loss: 1.3325\n",
      "121/121 [==============================] - 0s 2ms/step - loss: 1.3250\n",
      "Epoch 1/10\n"
     ]
    },
    {
     "name": "stderr",
     "output_type": "stream",
     "text": [
      "c:\\Users\\julia\\anaconda3\\envs\\DataCampTutorials\\lib\\site-packages\\keras\\optimizers\\optimizer_v2\\gradient_descent.py:111: UserWarning: The `lr` argument is deprecated, use `learning_rate` instead.\n",
      "  super().__init__(name, **kwargs)\n"
     ]
    },
    {
     "name": "stdout",
     "output_type": "stream",
     "text": [
      "242/242 [==============================] - 1s 4ms/step - loss: nan - val_loss: nan\n",
      "Epoch 2/10\n",
      "242/242 [==============================] - 1s 3ms/step - loss: nan - val_loss: nan\n",
      "121/121 [==============================] - 0s 2ms/step - loss: nan\n",
      "Epoch 1/10\n"
     ]
    },
    {
     "name": "stderr",
     "output_type": "stream",
     "text": [
      "c:\\Users\\julia\\anaconda3\\envs\\DataCampTutorials\\lib\\site-packages\\keras\\optimizers\\optimizer_v2\\gradient_descent.py:111: UserWarning: The `lr` argument is deprecated, use `learning_rate` instead.\n",
      "  super().__init__(name, **kwargs)\n"
     ]
    },
    {
     "name": "stdout",
     "output_type": "stream",
     "text": [
      "242/242 [==============================] - 1s 3ms/step - loss: 10388043.0000 - val_loss: 986.5223\n",
      "Epoch 2/10\n",
      "242/242 [==============================] - 1s 3ms/step - loss: 814.6489 - val_loss: 661.6744\n",
      "Epoch 3/10\n",
      "242/242 [==============================] - 1s 3ms/step - loss: 546.5528 - val_loss: 443.9310\n",
      "Epoch 4/10\n",
      "242/242 [==============================] - 1s 3ms/step - loss: 366.8295 - val_loss: 297.9704\n",
      "Epoch 5/10\n",
      "242/242 [==============================] - 1s 3ms/step - loss: 246.3490 - val_loss: 200.1398\n",
      "Epoch 6/10\n",
      "242/242 [==============================] - 1s 3ms/step - loss: 165.5798 - val_loss: 134.5603\n",
      "Epoch 7/10\n",
      "242/242 [==============================] - 1s 3ms/step - loss: 111.4331 - val_loss: 90.6079\n",
      "Epoch 8/10\n",
      "242/242 [==============================] - 1s 3ms/step - loss: 75.1339 - val_loss: 61.1473\n",
      "Epoch 9/10\n",
      "242/242 [==============================] - 1s 3ms/step - loss: 50.8007 - val_loss: 41.4063\n",
      "Epoch 10/10\n",
      "242/242 [==============================] - 1s 3ms/step - loss: 34.4889 - val_loss: 28.1763\n",
      "121/121 [==============================] - 0s 2ms/step - loss: 28.2693\n",
      "Epoch 1/10\n"
     ]
    },
    {
     "name": "stderr",
     "output_type": "stream",
     "text": [
      "c:\\Users\\julia\\anaconda3\\envs\\DataCampTutorials\\lib\\site-packages\\keras\\optimizers\\optimizer_v2\\gradient_descent.py:111: UserWarning: The `lr` argument is deprecated, use `learning_rate` instead.\n",
      "  super().__init__(name, **kwargs)\n"
     ]
    },
    {
     "name": "stdout",
     "output_type": "stream",
     "text": [
      "242/242 [==============================] - 2s 5ms/step - loss: inf - val_loss: 56550135912429013535301810220171264.0000\n",
      "Epoch 2/10\n",
      "242/242 [==============================] - 1s 3ms/step - loss: inf - val_loss: 37909727501005392937220207506620416.0000\n",
      "Epoch 3/10\n",
      "242/242 [==============================] - 1s 3ms/step - loss: 31275205737902311580826733473955840.0000 - val_loss: 25413723059971221649375666957713408.0000\n",
      "Epoch 4/10\n",
      "242/242 [==============================] - 1s 3ms/step - loss: 20966089225027885959126340419452928.0000 - val_loss: 17036699180490746154879133851582464.0000\n",
      "Epoch 5/10\n",
      "242/242 [==============================] - 1s 3ms/step - loss: 14055108216471514908981844166836224.0000 - val_loss: 11420917889796861358868945914822656.0000\n",
      "Epoch 6/10\n",
      "242/242 [==============================] - 1s 3ms/step - loss: 9422174564687786357664517118230528.0000 - val_loss: 7656298283458625311900950230728704.0000\n",
      "Epoch 7/10\n",
      "242/242 [==============================] - 1s 3ms/step - loss: 6316377981676954695335911052279808.0000 - val_loss: 5132569655974416065062369558003712.0000\n",
      "Epoch 8/10\n",
      "242/242 [==============================] - 1s 3ms/step - loss: 4234333980809376276778588911435776.0000 - val_loss: 3440747257380316288688337006362624.0000\n",
      "Epoch 9/10\n",
      "242/242 [==============================] - 1s 3ms/step - loss: 2838585678106033223266286478295040.0000 - val_loss: 2306588992833396405100174687338496.0000\n",
      "Epoch 10/10\n",
      "242/242 [==============================] - 1s 3ms/step - loss: 1902914386667993714124487590412288.0000 - val_loss: 1546276395492773421401333255110656.0000\n",
      "121/121 [==============================] - 0s 2ms/step - loss: 1546276395492773421401333255110656.0000\n",
      "Epoch 1/10\n"
     ]
    },
    {
     "name": "stderr",
     "output_type": "stream",
     "text": [
      "c:\\Users\\julia\\anaconda3\\envs\\DataCampTutorials\\lib\\site-packages\\keras\\optimizers\\optimizer_v2\\gradient_descent.py:111: UserWarning: The `lr` argument is deprecated, use `learning_rate` instead.\n",
      "  super().__init__(name, **kwargs)\n"
     ]
    },
    {
     "name": "stdout",
     "output_type": "stream",
     "text": [
      "242/242 [==============================] - 1s 4ms/step - loss: nan - val_loss: nan\n",
      "Epoch 2/10\n",
      "242/242 [==============================] - 1s 3ms/step - loss: nan - val_loss: nan\n",
      "121/121 [==============================] - 0s 2ms/step - loss: nan\n",
      "Epoch 1/10\n"
     ]
    },
    {
     "name": "stderr",
     "output_type": "stream",
     "text": [
      "c:\\Users\\julia\\anaconda3\\envs\\DataCampTutorials\\lib\\site-packages\\keras\\optimizers\\optimizer_v2\\gradient_descent.py:111: UserWarning: The `lr` argument is deprecated, use `learning_rate` instead.\n",
      "  super().__init__(name, **kwargs)\n"
     ]
    },
    {
     "name": "stdout",
     "output_type": "stream",
     "text": [
      "242/242 [==============================] - 1s 3ms/step - loss: nan - val_loss: nan\n",
      "Epoch 2/10\n",
      "242/242 [==============================] - 1s 3ms/step - loss: nan - val_loss: nan\n",
      "121/121 [==============================] - 0s 2ms/step - loss: nan\n",
      "Epoch 1/10\n"
     ]
    },
    {
     "name": "stderr",
     "output_type": "stream",
     "text": [
      "c:\\Users\\julia\\anaconda3\\envs\\DataCampTutorials\\lib\\site-packages\\keras\\optimizers\\optimizer_v2\\gradient_descent.py:111: UserWarning: The `lr` argument is deprecated, use `learning_rate` instead.\n",
      "  super().__init__(name, **kwargs)\n"
     ]
    },
    {
     "name": "stdout",
     "output_type": "stream",
     "text": [
      "242/242 [==============================] - 2s 4ms/step - loss: inf - val_loss: 89532320845167667901234570854400.0000\n",
      "Epoch 2/10\n",
      "242/242 [==============================] - 1s 3ms/step - loss: 47461421851788422027491114221568.0000 - val_loss: 21052253565582266282400144162816.0000\n",
      "Epoch 3/10\n",
      "242/242 [==============================] - 1s 4ms/step - loss: 11159880756281890578827116019712.0000 - val_loss: 4950143823320696340389914738688.0000\n",
      "Epoch 4/10\n",
      "242/242 [==============================] - 1s 3ms/step - loss: 2624090757278055242729701507072.0000 - val_loss: 1163956045860876746836808826880.0000\n",
      "Epoch 5/10\n",
      "242/242 [==============================] - 1s 3ms/step - loss: 617017642222944374289573347328.0000 - val_loss: 273688149618577954504305541120.0000\n",
      "Epoch 6/10\n",
      "242/242 [==============================] - 1s 3ms/step - loss: 145083045940957161167131770880.0000 - val_loss: 64353959520342915626383179776.0000\n",
      "Epoch 7/10\n",
      "242/242 [==============================] - 1s 3ms/step - loss: 34114243245988796673673920512.0000 - val_loss: 15131875379284342006012182528.0000\n",
      "Epoch 8/10\n",
      "242/242 [==============================] - 1s 3ms/step - loss: 8021472508270846306666151936.0000 - val_loss: 3558054925454021832793391104.0000\n",
      "Epoch 9/10\n",
      "242/242 [==============================] - 1s 3ms/step - loss: 1886135309351024749812121600.0000 - val_loss: 836623964625128380187017216.0000\n",
      "Epoch 10/10\n",
      "242/242 [==============================] - 1s 3ms/step - loss: 443497321996399840914833408.0000 - val_loss: 196720358446663759048998912.0000\n",
      "121/121 [==============================] - 0s 2ms/step - loss: 196720358446663759048998912.0000\n",
      "Epoch 1/10\n"
     ]
    },
    {
     "name": "stderr",
     "output_type": "stream",
     "text": [
      "c:\\Users\\julia\\anaconda3\\envs\\DataCampTutorials\\lib\\site-packages\\keras\\optimizers\\optimizer_v2\\gradient_descent.py:111: UserWarning: The `lr` argument is deprecated, use `learning_rate` instead.\n",
      "  super().__init__(name, **kwargs)\n"
     ]
    },
    {
     "name": "stdout",
     "output_type": "stream",
     "text": [
      "242/242 [==============================] - 1s 3ms/step - loss: nan - val_loss: nan\n",
      "Epoch 2/10\n",
      "242/242 [==============================] - 1s 2ms/step - loss: nan - val_loss: nan\n",
      "121/121 [==============================] - 0s 1ms/step - loss: nan\n",
      "Epoch 1/10\n"
     ]
    },
    {
     "name": "stderr",
     "output_type": "stream",
     "text": [
      "c:\\Users\\julia\\anaconda3\\envs\\DataCampTutorials\\lib\\site-packages\\keras\\optimizers\\optimizer_v2\\gradient_descent.py:111: UserWarning: The `lr` argument is deprecated, use `learning_rate` instead.\n",
      "  super().__init__(name, **kwargs)\n"
     ]
    },
    {
     "name": "stdout",
     "output_type": "stream",
     "text": [
      "242/242 [==============================] - 1s 3ms/step - loss: nan - val_loss: nan\n",
      "Epoch 2/10\n",
      "242/242 [==============================] - 0s 2ms/step - loss: nan - val_loss: nan\n",
      "121/121 [==============================] - 0s 2ms/step - loss: nan\n",
      "Epoch 1/10\n"
     ]
    },
    {
     "name": "stderr",
     "output_type": "stream",
     "text": [
      "c:\\Users\\julia\\anaconda3\\envs\\DataCampTutorials\\lib\\site-packages\\keras\\optimizers\\optimizer_v2\\gradient_descent.py:111: UserWarning: The `lr` argument is deprecated, use `learning_rate` instead.\n",
      "  super().__init__(name, **kwargs)\n"
     ]
    },
    {
     "name": "stdout",
     "output_type": "stream",
     "text": [
      "242/242 [==============================] - 1s 3ms/step - loss: nan - val_loss: nan\n",
      "Epoch 2/10\n",
      "242/242 [==============================] - 1s 2ms/step - loss: nan - val_loss: nan\n",
      "121/121 [==============================] - 0s 2ms/step - loss: nan\n",
      "Epoch 1/10\n"
     ]
    },
    {
     "name": "stderr",
     "output_type": "stream",
     "text": [
      "c:\\Users\\julia\\anaconda3\\envs\\DataCampTutorials\\lib\\site-packages\\keras\\optimizers\\optimizer_v2\\gradient_descent.py:111: UserWarning: The `lr` argument is deprecated, use `learning_rate` instead.\n",
      "  super().__init__(name, **kwargs)\n"
     ]
    },
    {
     "name": "stdout",
     "output_type": "stream",
     "text": [
      "242/242 [==============================] - 1s 4ms/step - loss: nan - val_loss: nan\n",
      "Epoch 2/10\n",
      "242/242 [==============================] - 1s 2ms/step - loss: nan - val_loss: nan\n",
      "121/121 [==============================] - 0s 1ms/step - loss: nan\n",
      "Epoch 1/10\n"
     ]
    },
    {
     "name": "stderr",
     "output_type": "stream",
     "text": [
      "c:\\Users\\julia\\anaconda3\\envs\\DataCampTutorials\\lib\\site-packages\\keras\\optimizers\\optimizer_v2\\gradient_descent.py:111: UserWarning: The `lr` argument is deprecated, use `learning_rate` instead.\n",
      "  super().__init__(name, **kwargs)\n"
     ]
    },
    {
     "name": "stdout",
     "output_type": "stream",
     "text": [
      "242/242 [==============================] - 1s 3ms/step - loss: nan - val_loss: nan\n",
      "Epoch 2/10\n",
      "242/242 [==============================] - 1s 3ms/step - loss: nan - val_loss: nan\n",
      "121/121 [==============================] - 0s 2ms/step - loss: nan\n",
      "Epoch 1/10\n"
     ]
    },
    {
     "name": "stderr",
     "output_type": "stream",
     "text": [
      "c:\\Users\\julia\\anaconda3\\envs\\DataCampTutorials\\lib\\site-packages\\keras\\optimizers\\optimizer_v2\\gradient_descent.py:111: UserWarning: The `lr` argument is deprecated, use `learning_rate` instead.\n",
      "  super().__init__(name, **kwargs)\n"
     ]
    },
    {
     "name": "stdout",
     "output_type": "stream",
     "text": [
      "242/242 [==============================] - 1s 3ms/step - loss: nan - val_loss: nan\n",
      "Epoch 2/10\n",
      "242/242 [==============================] - 1s 3ms/step - loss: nan - val_loss: nan\n",
      "121/121 [==============================] - 0s 2ms/step - loss: nan\n",
      "Epoch 1/10\n"
     ]
    },
    {
     "name": "stderr",
     "output_type": "stream",
     "text": [
      "c:\\Users\\julia\\anaconda3\\envs\\DataCampTutorials\\lib\\site-packages\\keras\\optimizers\\optimizer_v2\\gradient_descent.py:111: UserWarning: The `lr` argument is deprecated, use `learning_rate` instead.\n",
      "  super().__init__(name, **kwargs)\n"
     ]
    },
    {
     "name": "stdout",
     "output_type": "stream",
     "text": [
      "242/242 [==============================] - 1s 3ms/step - loss: 2391056056320.0000 - val_loss: 391.4866\n",
      "Epoch 2/10\n",
      "242/242 [==============================] - 1s 2ms/step - loss: 20.3262 - val_loss: 1.3292\n",
      "Epoch 3/10\n",
      "242/242 [==============================] - 1s 2ms/step - loss: 1.3332 - val_loss: 1.3293\n",
      "Epoch 4/10\n",
      "242/242 [==============================] - 1s 3ms/step - loss: 1.3333 - val_loss: 1.3295\n",
      "121/121 [==============================] - 0s 2ms/step - loss: 1.3017\n",
      "Epoch 1/10\n"
     ]
    },
    {
     "name": "stderr",
     "output_type": "stream",
     "text": [
      "c:\\Users\\julia\\anaconda3\\envs\\DataCampTutorials\\lib\\site-packages\\keras\\optimizers\\optimizer_v2\\gradient_descent.py:111: UserWarning: The `lr` argument is deprecated, use `learning_rate` instead.\n",
      "  super().__init__(name, **kwargs)\n"
     ]
    },
    {
     "name": "stdout",
     "output_type": "stream",
     "text": [
      "242/242 [==============================] - 1s 3ms/step - loss: nan - val_loss: nan\n",
      "Epoch 2/10\n",
      "242/242 [==============================] - 1s 3ms/step - loss: nan - val_loss: nan\n",
      "121/121 [==============================] - 0s 2ms/step - loss: nan\n",
      "Epoch 1/10\n"
     ]
    },
    {
     "name": "stderr",
     "output_type": "stream",
     "text": [
      "c:\\Users\\julia\\anaconda3\\envs\\DataCampTutorials\\lib\\site-packages\\keras\\optimizers\\optimizer_v2\\gradient_descent.py:111: UserWarning: The `lr` argument is deprecated, use `learning_rate` instead.\n",
      "  super().__init__(name, **kwargs)\n"
     ]
    },
    {
     "name": "stdout",
     "output_type": "stream",
     "text": [
      "242/242 [==============================] - 1s 3ms/step - loss: nan - val_loss: nan\n",
      "Epoch 2/10\n",
      "242/242 [==============================] - 1s 3ms/step - loss: nan - val_loss: nan\n",
      "121/121 [==============================] - 0s 2ms/step - loss: nan\n",
      "Epoch 1/10\n"
     ]
    },
    {
     "name": "stderr",
     "output_type": "stream",
     "text": [
      "c:\\Users\\julia\\anaconda3\\envs\\DataCampTutorials\\lib\\site-packages\\keras\\optimizers\\optimizer_v2\\gradient_descent.py:111: UserWarning: The `lr` argument is deprecated, use `learning_rate` instead.\n",
      "  super().__init__(name, **kwargs)\n"
     ]
    },
    {
     "name": "stdout",
     "output_type": "stream",
     "text": [
      "242/242 [==============================] - 1s 3ms/step - loss: inf - val_loss: 29592361847613765073909609136128.0000\n",
      "Epoch 2/10\n",
      "242/242 [==============================] - 1s 3ms/step - loss: 25070655290135395239889689640960.0000 - val_loss: 20999498460665923094474316054528.0000\n",
      "Epoch 3/10\n",
      "242/242 [==============================] - 1s 3ms/step - loss: 17790784475206248943777629601792.0000 - val_loss: 14901813235147349990353106108416.0000\n",
      "Epoch 4/10\n",
      "242/242 [==============================] - 1s 3ms/step - loss: 12624809916383933242198246555648.0000 - val_loss: 10574715929333084316989862707200.0000\n",
      "Epoch 5/10\n",
      "242/242 [==============================] - 1s 3ms/step - loss: 8958888648426743640031907282944.0000 - val_loss: 7504083637601063688684353617920.0000\n",
      "Epoch 6/10\n",
      "242/242 [==============================] - 1s 3ms/step - loss: 6357453765471176355350786867200.0000 - val_loss: 5325086121645075505779161694208.0000\n",
      "Epoch 7/10\n",
      "242/242 [==============================] - 1s 3ms/step - loss: 4511417994290539532428582584320.0000 - val_loss: 3778823152482454724449442725888.0000\n",
      "Epoch 8/10\n",
      "242/242 [==============================] - 1s 3ms/step - loss: 3201417513675390056312747327488.0000 - val_loss: 2681551908178703278375367081984.0000\n",
      "Epoch 9/10\n",
      "242/242 [==============================] - 1s 3ms/step - loss: 2271809017863715042077087629312.0000 - val_loss: 1902900468305032490898799198208.0000\n",
      "Epoch 10/10\n",
      "242/242 [==============================] - 1s 3ms/step - loss: 1612135070337510147629755924480.0000 - val_loss: 1350343544141509266304955056128.0000\n",
      "121/121 [==============================] - 0s 2ms/step - loss: 1350343544141509266304955056128.0000\n",
      "Epoch 1/10\n"
     ]
    },
    {
     "name": "stderr",
     "output_type": "stream",
     "text": [
      "c:\\Users\\julia\\anaconda3\\envs\\DataCampTutorials\\lib\\site-packages\\keras\\optimizers\\optimizer_v2\\gradient_descent.py:111: UserWarning: The `lr` argument is deprecated, use `learning_rate` instead.\n",
      "  super().__init__(name, **kwargs)\n"
     ]
    },
    {
     "name": "stdout",
     "output_type": "stream",
     "text": [
      "242/242 [==============================] - 2s 3ms/step - loss: nan - val_loss: nan\n",
      "Epoch 2/10\n",
      "242/242 [==============================] - 1s 3ms/step - loss: nan - val_loss: nan\n",
      "121/121 [==============================] - 0s 3ms/step - loss: nan\n",
      "Epoch 1/10\n"
     ]
    },
    {
     "name": "stderr",
     "output_type": "stream",
     "text": [
      "c:\\Users\\julia\\anaconda3\\envs\\DataCampTutorials\\lib\\site-packages\\keras\\optimizers\\optimizer_v2\\gradient_descent.py:111: UserWarning: The `lr` argument is deprecated, use `learning_rate` instead.\n",
      "  super().__init__(name, **kwargs)\n"
     ]
    },
    {
     "name": "stdout",
     "output_type": "stream",
     "text": [
      "242/242 [==============================] - 1s 3ms/step - loss: nan - val_loss: nan\n",
      "Epoch 2/10\n",
      "242/242 [==============================] - 1s 2ms/step - loss: nan - val_loss: nan\n",
      "121/121 [==============================] - 0s 2ms/step - loss: nan\n",
      "Epoch 1/10\n"
     ]
    },
    {
     "name": "stderr",
     "output_type": "stream",
     "text": [
      "c:\\Users\\julia\\anaconda3\\envs\\DataCampTutorials\\lib\\site-packages\\keras\\optimizers\\optimizer_v2\\gradient_descent.py:111: UserWarning: The `lr` argument is deprecated, use `learning_rate` instead.\n",
      "  super().__init__(name, **kwargs)\n"
     ]
    },
    {
     "name": "stdout",
     "output_type": "stream",
     "text": [
      "242/242 [==============================] - 1s 3ms/step - loss: 1310082859008.0000 - val_loss: 549511488.0000\n",
      "Epoch 2/10\n",
      "242/242 [==============================] - 1s 2ms/step - loss: 328232544.0000 - val_loss: 175103808.0000\n",
      "Epoch 3/10\n",
      "242/242 [==============================] - 1s 3ms/step - loss: 104592456.0000 - val_loss: 55797372.0000\n",
      "Epoch 4/10\n",
      "242/242 [==============================] - 1s 2ms/step - loss: 33328778.0000 - val_loss: 17780012.0000\n",
      "Epoch 5/10\n",
      "242/242 [==============================] - 1s 2ms/step - loss: 10620342.0000 - val_loss: 5665650.5000\n",
      "Epoch 6/10\n",
      "242/242 [==============================] - 1s 2ms/step - loss: 3384215.7500 - val_loss: 1805373.3750\n",
      "Epoch 7/10\n",
      "242/242 [==============================] - 1s 2ms/step - loss: 1078394.8750 - val_loss: 575284.0625\n",
      "Epoch 8/10\n",
      "242/242 [==============================] - 1s 2ms/step - loss: 343635.1562 - val_loss: 183314.1406\n",
      "Epoch 9/10\n",
      "242/242 [==============================] - 1s 2ms/step - loss: 109501.4375 - val_loss: 58412.5000\n",
      "Epoch 10/10\n",
      "242/242 [==============================] - 1s 3ms/step - loss: 34893.8750 - val_loss: 18613.3438\n",
      "121/121 [==============================] - 0s 1ms/step - loss: 18616.3984\n",
      "Epoch 1/10\n"
     ]
    },
    {
     "name": "stderr",
     "output_type": "stream",
     "text": [
      "c:\\Users\\julia\\anaconda3\\envs\\DataCampTutorials\\lib\\site-packages\\keras\\optimizers\\optimizer_v2\\gradient_descent.py:111: UserWarning: The `lr` argument is deprecated, use `learning_rate` instead.\n",
      "  super().__init__(name, **kwargs)\n"
     ]
    },
    {
     "name": "stdout",
     "output_type": "stream",
     "text": [
      "242/242 [==============================] - 1s 3ms/step - loss: 70606139905015808.0000 - val_loss: 21837484392448.0000\n",
      "Epoch 2/10\n",
      "242/242 [==============================] - 1s 3ms/step - loss: 13043875446784.0000 - val_loss: 6958585741312.0000\n",
      "Epoch 3/10\n",
      "242/242 [==============================] - 1s 2ms/step - loss: 4156477145088.0000 - val_loss: 2217377005568.0000\n",
      "Epoch 4/10\n",
      "242/242 [==============================] - 1s 2ms/step - loss: 1324475088896.0000 - val_loss: 706574942208.0000\n",
      "Epoch 5/10\n",
      "242/242 [==============================] - 1s 3ms/step - loss: 422048399360.0000 - val_loss: 225152286720.0000\n",
      "Epoch 6/10\n",
      "242/242 [==============================] - 1s 2ms/step - loss: 134487146496.0000 - val_loss: 71745560576.0000\n",
      "Epoch 7/10\n",
      "242/242 [==============================] - 1s 2ms/step - loss: 42854776832.0000 - val_loss: 22861938688.0000\n",
      "Epoch 8/10\n",
      "242/242 [==============================] - 1s 3ms/step - loss: 13655810048.0000 - val_loss: 7285026816.0000\n",
      "Epoch 9/10\n",
      "242/242 [==============================] - 1s 2ms/step - loss: 4351465472.0000 - val_loss: 2321399040.0000\n",
      "Epoch 10/10\n",
      "242/242 [==============================] - 1s 3ms/step - loss: 1386610176.0000 - val_loss: 739721472.0000\n",
      "121/121 [==============================] - 0s 2ms/step - loss: 739722176.0000\n",
      "Epoch 1/10\n"
     ]
    },
    {
     "name": "stderr",
     "output_type": "stream",
     "text": [
      "c:\\Users\\julia\\anaconda3\\envs\\DataCampTutorials\\lib\\site-packages\\keras\\optimizers\\optimizer_v2\\gradient_descent.py:111: UserWarning: The `lr` argument is deprecated, use `learning_rate` instead.\n",
      "  super().__init__(name, **kwargs)\n"
     ]
    },
    {
     "name": "stdout",
     "output_type": "stream",
     "text": [
      "242/242 [==============================] - 1s 3ms/step - loss: 295044288348160.0000 - val_loss: 70809788416.0000\n",
      "Epoch 2/10\n",
      "242/242 [==============================] - 1s 2ms/step - loss: 42295832576.0000 - val_loss: 22563782656.0000\n",
      "Epoch 3/10\n",
      "242/242 [==============================] - 1s 2ms/step - loss: 13477720064.0000 - val_loss: 7190028288.0000\n",
      "Epoch 4/10\n",
      "242/242 [==============================] - 1s 2ms/step - loss: 4294722048.0000 - val_loss: 2291126272.0000\n",
      "Epoch 5/10\n",
      "242/242 [==============================] - 1s 2ms/step - loss: 1368527232.0000 - val_loss: 730074688.0000\n",
      "Epoch 6/10\n",
      "242/242 [==============================] - 1s 2ms/step - loss: 436085888.0000 - val_loss: 232640576.0000\n",
      "Epoch 7/10\n",
      "242/242 [==============================] - 1s 3ms/step - loss: 138960320.0000 - val_loss: 74131776.0000\n",
      "Epoch 8/10\n",
      "242/242 [==============================] - 1s 2ms/step - loss: 44280216.0000 - val_loss: 23622312.0000\n",
      "Epoch 9/10\n",
      "242/242 [==============================] - 1s 2ms/step - loss: 14110052.0000 - val_loss: 7527311.0000\n",
      "Epoch 10/10\n",
      "242/242 [==============================] - 1s 6ms/step - loss: 4496215.5000 - val_loss: 2398592.5000\n",
      "121/121 [==============================] - 1s 6ms/step - loss: 2398624.5000\n"
     ]
    },
    {
     "name": "stderr",
     "output_type": "stream",
     "text": [
      "c:\\Users\\julia\\anaconda3\\envs\\DataCampTutorials\\lib\\site-packages\\sklearn\\model_selection\\_search.py:969: UserWarning: One or more of the test scores are non-finite: [            nan             nan             nan             nan\n",
      "             nan             nan             nan             nan\n",
      "             nan -2.47379806e+08]\n",
      "  warnings.warn(\n"
     ]
    },
    {
     "name": "stdout",
     "output_type": "stream",
     "text": [
      "Epoch 1/10\n",
      "363/363 [==============================] - 2s 3ms/step - loss: 803319275610701824.0000 - val_loss: 821335118839808.0000\n",
      "Epoch 2/10\n",
      "363/363 [==============================] - 1s 2ms/step - loss: 393713041801216.0000 - val_loss: 147740214427648.0000\n",
      "Epoch 3/10\n",
      "363/363 [==============================] - 1s 2ms/step - loss: 70820277780480.0000 - val_loss: 26575181447168.0000\n",
      "Epoch 4/10\n",
      "363/363 [==============================] - 1s 2ms/step - loss: 12738999877632.0000 - val_loss: 4780297027584.0000\n",
      "Epoch 5/10\n",
      "363/363 [==============================] - 1s 2ms/step - loss: 2291467550720.0000 - val_loss: 859868561408.0000\n",
      "Epoch 6/10\n",
      "363/363 [==============================] - 1s 2ms/step - loss: 412184707072.0000 - val_loss: 154671497216.0000\n",
      "Epoch 7/10\n",
      "363/363 [==============================] - 2s 5ms/step - loss: 74143031296.0000 - val_loss: 27822069760.0000\n",
      "Epoch 8/10\n",
      "363/363 [==============================] - 2s 5ms/step - loss: 13336684544.0000 - val_loss: 5004572672.0000\n",
      "Epoch 9/10\n",
      "363/363 [==============================] - 1s 3ms/step - loss: 2398975744.0000 - val_loss: 900210816.0000\n",
      "Epoch 10/10\n",
      "363/363 [==============================] - 1s 2ms/step - loss: 431522432.0000 - val_loss: 161928304.0000\n"
     ]
    },
    {
     "data": {
      "text/plain": [
       "RandomizedSearchCV(cv=3,\n",
       "                   estimator=<keras.wrappers.scikit_learn.KerasRegressor object at 0x0000026E0F3D4880>,\n",
       "                   param_distributions={'learning_rate': <scipy.stats._distn_infrastructure.rv_frozen object at 0x0000026E0F3D52D0>,\n",
       "                                        'n_hidden': [0, 1, 2, 3],\n",
       "                                        'n_neurons': array([10, 20])})"
      ]
     },
     "execution_count": 14,
     "metadata": {},
     "output_type": "execute_result"
    }
   ],
   "source": [
    "from sklearn.model_selection import RandomizedSearchCV\n",
    "from scipy.stats import reciprocal\n",
    "\n",
    "params_distribs = {\n",
    "    'n_hidden': [0, 1, 2, 3],\n",
    "    'n_neurons': np.array([10, 20]),\n",
    "    'learning_rate': reciprocal(3e-4, 3e-2)\n",
    "}\n",
    "\n",
    "rnd_search = RandomizedSearchCV(keras_reg, \n",
    "                                params_distribs, \n",
    "                                n_iter=10, cv=3)\n",
    "rnd_search.fit(X_train, y_train, epochs=10, \n",
    "validation_data=(X_valid, y_valid),\n",
    "callbacks=[EarlyStopping(patience=2)]\n",
    ")"
   ]
  },
  {
   "cell_type": "code",
   "execution_count": null,
   "metadata": {},
   "outputs": [
    {
     "data": {
      "text/plain": [
       "{'learning_rate': 0.0011800629361042776, 'n_hidden': 1, 'n_neurons': 10}"
      ]
     },
     "execution_count": 16,
     "metadata": {},
     "output_type": "execute_result"
    }
   ],
   "source": [
    "rnd_search.best_params_"
   ]
  },
  {
   "cell_type": "code",
   "execution_count": 2,
   "metadata": {},
   "outputs": [],
   "source": [
    "import pandas as pd"
   ]
  },
  {
   "cell_type": "code",
   "execution_count": 9,
   "metadata": {},
   "outputs": [],
   "source": [
    "season_data = pd.read_csv('./data/games_tourney.csv')"
   ]
  },
  {
   "cell_type": "code",
   "execution_count": 10,
   "metadata": {},
   "outputs": [
    {
     "data": {
      "text/html": [
       "<div>\n",
       "<style scoped>\n",
       "    .dataframe tbody tr th:only-of-type {\n",
       "        vertical-align: middle;\n",
       "    }\n",
       "\n",
       "    .dataframe tbody tr th {\n",
       "        vertical-align: top;\n",
       "    }\n",
       "\n",
       "    .dataframe thead th {\n",
       "        text-align: right;\n",
       "    }\n",
       "</style>\n",
       "<table border=\"1\" class=\"dataframe\">\n",
       "  <thead>\n",
       "    <tr style=\"text-align: right;\">\n",
       "      <th></th>\n",
       "      <th>season</th>\n",
       "      <th>team_1</th>\n",
       "      <th>team_2</th>\n",
       "      <th>home</th>\n",
       "      <th>seed_diff</th>\n",
       "      <th>score_diff</th>\n",
       "      <th>score_1</th>\n",
       "      <th>score_2</th>\n",
       "      <th>won</th>\n",
       "    </tr>\n",
       "  </thead>\n",
       "  <tbody>\n",
       "    <tr>\n",
       "      <th>0</th>\n",
       "      <td>1985</td>\n",
       "      <td>288</td>\n",
       "      <td>73</td>\n",
       "      <td>0</td>\n",
       "      <td>-3</td>\n",
       "      <td>-9</td>\n",
       "      <td>41</td>\n",
       "      <td>50</td>\n",
       "      <td>0</td>\n",
       "    </tr>\n",
       "    <tr>\n",
       "      <th>1</th>\n",
       "      <td>1985</td>\n",
       "      <td>5929</td>\n",
       "      <td>73</td>\n",
       "      <td>0</td>\n",
       "      <td>4</td>\n",
       "      <td>6</td>\n",
       "      <td>61</td>\n",
       "      <td>55</td>\n",
       "      <td>1</td>\n",
       "    </tr>\n",
       "    <tr>\n",
       "      <th>2</th>\n",
       "      <td>1985</td>\n",
       "      <td>9884</td>\n",
       "      <td>73</td>\n",
       "      <td>0</td>\n",
       "      <td>5</td>\n",
       "      <td>-4</td>\n",
       "      <td>59</td>\n",
       "      <td>63</td>\n",
       "      <td>0</td>\n",
       "    </tr>\n",
       "    <tr>\n",
       "      <th>3</th>\n",
       "      <td>1985</td>\n",
       "      <td>73</td>\n",
       "      <td>288</td>\n",
       "      <td>0</td>\n",
       "      <td>3</td>\n",
       "      <td>9</td>\n",
       "      <td>50</td>\n",
       "      <td>41</td>\n",
       "      <td>1</td>\n",
       "    </tr>\n",
       "    <tr>\n",
       "      <th>4</th>\n",
       "      <td>1985</td>\n",
       "      <td>3920</td>\n",
       "      <td>410</td>\n",
       "      <td>0</td>\n",
       "      <td>1</td>\n",
       "      <td>-9</td>\n",
       "      <td>54</td>\n",
       "      <td>63</td>\n",
       "      <td>0</td>\n",
       "    </tr>\n",
       "  </tbody>\n",
       "</table>\n",
       "</div>"
      ],
      "text/plain": [
       "   season  team_1  team_2  home  seed_diff  score_diff  score_1  score_2  won\n",
       "0    1985     288      73     0         -3          -9       41       50    0\n",
       "1    1985    5929      73     0          4           6       61       55    1\n",
       "2    1985    9884      73     0          5          -4       59       63    0\n",
       "3    1985      73     288     0          3           9       50       41    1\n",
       "4    1985    3920     410     0          1          -9       54       63    0"
      ]
     },
     "execution_count": 10,
     "metadata": {},
     "output_type": "execute_result"
    }
   ],
   "source": [
    "season_data.head()"
   ]
  },
  {
   "cell_type": "code",
   "execution_count": 7,
   "metadata": {},
   "outputs": [
    {
     "name": "stdout",
     "output_type": "stream",
     "text": [
      "(312178, 8)\n"
     ]
    }
   ],
   "source": [
    "print(season_data.shape)"
   ]
  },
  {
   "cell_type": "code",
   "execution_count": 11,
   "metadata": {},
   "outputs": [],
   "source": [
    "X = season_data['seed_diff']\n",
    "y = season_data['score_diff']"
   ]
  },
  {
   "attachments": {},
   "cell_type": "markdown",
   "metadata": {},
   "source": [
    "When it comes to choosing appropriate train and test sample sizes\n",
    "1. If you have very small dataset, you should use cross validation\n",
    "2. If the dataset is large enough, you may use 80/20 split (Pareto rule). The training set may be further split to test the performance on the validation set. "
   ]
  },
  {
   "cell_type": "code",
   "execution_count": 12,
   "metadata": {},
   "outputs": [],
   "source": [
    "X_train, X_test, y_train, y_test = train_test_split(X, y, test_size=0.3,\n",
    "                                                    shuffle=True,\n",
    "                                                    random_state=42)"
   ]
  },
  {
   "cell_type": "code",
   "execution_count": 24,
   "metadata": {},
   "outputs": [],
   "source": [
    "from tensorflow.keras.models import Model\n",
    "from tensorflow.keras.layers import Input, Dense\n",
    "input_tensor = Input(shape=(1,))\n",
    "output_tensor = Dense(1)(input_tensor)\n",
    "model = Model(input_tensor, output_tensor)\n",
    "\n",
    "model.compile(optimizer='sgd', loss='mae')\n"
   ]
  },
  {
   "cell_type": "code",
   "execution_count": 25,
   "metadata": {},
   "outputs": [
    {
     "name": "stdout",
     "output_type": "stream",
     "text": [
      "Epoch 1/10\n",
      "38/38 [==============================] - 1s 12ms/step - loss: 11.5469 - accuracy: 0.0110 - val_loss: 8.9748 - val_accuracy: 0.0169\n",
      "Epoch 2/10\n",
      "38/38 [==============================] - 0s 4ms/step - loss: 9.4053 - accuracy: 0.0148 - val_loss: 8.5434 - val_accuracy: 0.0169\n",
      "Epoch 3/10\n",
      "38/38 [==============================] - 0s 4ms/step - loss: 9.2402 - accuracy: 0.0148 - val_loss: 8.5598 - val_accuracy: 0.0169\n",
      "Epoch 4/10\n",
      "38/38 [==============================] - 0s 4ms/step - loss: 9.2350 - accuracy: 0.0148 - val_loss: 8.5528 - val_accuracy: 0.0169\n",
      "Epoch 5/10\n",
      "38/38 [==============================] - 0s 3ms/step - loss: 9.2350 - accuracy: 0.0148 - val_loss: 8.5844 - val_accuracy: 0.0169\n",
      "Epoch 6/10\n",
      "38/38 [==============================] - 0s 4ms/step - loss: 9.2372 - accuracy: 0.0148 - val_loss: 8.5637 - val_accuracy: 0.0169\n",
      "Epoch 7/10\n",
      "38/38 [==============================] - 0s 4ms/step - loss: 9.2341 - accuracy: 0.0148 - val_loss: 8.5704 - val_accuracy: 0.0169\n",
      "Epoch 8/10\n",
      "38/38 [==============================] - 0s 4ms/step - loss: 9.2342 - accuracy: 0.0148 - val_loss: 8.5502 - val_accuracy: 0.0169\n",
      "Epoch 9/10\n",
      "38/38 [==============================] - 0s 3ms/step - loss: 9.2329 - accuracy: 0.0148 - val_loss: 8.5561 - val_accuracy: 0.0169\n",
      "Epoch 10/10\n",
      "38/38 [==============================] - 0s 4ms/step - loss: 9.2343 - accuracy: 0.0148 - val_loss: 8.5776 - val_accuracy: 0.0169\n"
     ]
    }
   ],
   "source": [
    "history = model.fit(X_train, y_train, \n",
    "          batch_size=64, \n",
    "          validation_split=.2,\n",
    "          verbose=True,\n",
    "          epochs=10)\n"
   ]
  },
  {
   "cell_type": "code",
   "execution_count": 34,
   "metadata": {},
   "outputs": [
    {
     "data": {
      "image/png": "[encoded data removed]",
      "text/plain": [
       "<Figure size 504x504 with 2 Axes>"
      ]
     },
     "metadata": {
      "needs_background": "light"
     },
     "output_type": "display_data"
    }
   ],
   "source": [
    "_, ax = plt.subplots(figsize=(7, 7))\n",
    "\n",
    "l1, = ax.plot(np.arange(10), history.history['loss'], c='red')\n",
    "\n",
    "twin_ax = ax.twinx()\n",
    "l2, = twin_ax.plot(np.arange(10), history.history['val_loss'])\n",
    "\n",
    "plt.legend([l1, l2], ['train loss', 'validation loss'])\n",
    "\n",
    "_ = plt.title('Model fit')"
   ]
  },
  {
   "cell_type": "code",
   "execution_count": 35,
   "metadata": {},
   "outputs": [
    {
     "name": "stdout",
     "output_type": "stream",
     "text": [
      "40/40 [==============================] - 0s 2ms/step - loss: 9.2563 - accuracy: 0.0087\n"
     ]
    },
    {
     "data": {
      "text/plain": [
       "[9.256316184997559, 0.00865460280328989]"
      ]
     },
     "execution_count": 35,
     "metadata": {},
     "output_type": "execute_result"
    }
   ],
   "source": [
    "model.evaluate(X_test, y_test)"
   ]
  }
 ],
 "metadata": {
  "kernelspec": {
   "display_name": "DataCampTutorials",
   "language": "python",
   "name": "python3"
  },
  "language_info": {
   "codemirror_mode": {
    "name": "ipython",
    "version": 3
   },
   "file_extension": ".py",
   "mimetype": "text/x-python",
   "name": "python",
   "nbconvert_exporter": "python",
   "pygments_lexer": "ipython3",
   "version": "3.10.4"
  },
  "orig_nbformat": 4
 },
 "nbformat": 4,
 "nbformat_minor": 2
}
