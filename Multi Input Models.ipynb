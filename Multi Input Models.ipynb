{
 "cells": [
  {
   "cell_type": "code",
   "execution_count": 2,
   "metadata": {},
   "outputs": [
    {
     "name": "stderr",
     "output_type": "stream",
     "text": [
      "c:\\Users\\julia\\anaconda3\\envs\\DataCampTutorials\\lib\\site-packages\\scipy\\__init__.py:146: UserWarning: A NumPy version >=1.16.5 and <1.23.0 is required for this version of SciPy (detected version 1.24.2\n",
      "  warnings.warn(f\"A NumPy version >={np_minversion} and <{np_maxversion}\"\n"
     ]
    }
   ],
   "source": [
    "from tensorflow.keras.layers import Input, Embedding, Subtract, Concatenate, Flatten, Multiply, Dense\n",
    "from tensorflow.keras.models import Model \n",
    "from tensorflow.keras.utils import plot_model\n",
    "from sklearn.model_selection import train_test_split\n",
    "import matplotlib.pyplot as plt\n",
    "import pandas as pd\n",
    "import numpy as np"
   ]
  },
  {
   "attachments": {},
   "cell_type": "markdown",
   "metadata": {},
   "source": [
    "### Multiple-Input Models\n",
    "We'll build a model which takes in three layers."
   ]
  },
  {
   "cell_type": "code",
   "execution_count": 3,
   "metadata": {},
   "outputs": [
    {
     "ename": "FileNotFoundError",
     "evalue": "[Errno 2] No such file or directory: './data/games_season.csv'",
     "output_type": "error",
     "traceback": [
      "\u001b[1;31m---------------------------------------------------------------------------\u001b[0m",
      "\u001b[1;31mFileNotFoundError\u001b[0m                         Traceback (most recent call last)",
      "\u001b[1;32mc:\\Users\\julia\\VSCode\\ML\\data\\Multi Input Models.ipynb Cell 3\u001b[0m in \u001b[0;36m<cell line: 1>\u001b[1;34m()\u001b[0m\n\u001b[1;32m----> <a href='vscode-notebook-cell:/c%3A/Users/julia/VSCode/ML/data/Multi%20Input%20Models.ipynb#W3sZmlsZQ%3D%3D?line=0'>1</a>\u001b[0m season_data \u001b[39m=\u001b[39m pd\u001b[39m.\u001b[39;49mread_csv(\u001b[39m'\u001b[39;49m\u001b[39m./data/games_season.csv\u001b[39;49m\u001b[39m'\u001b[39;49m)\n\u001b[0;32m      <a href='vscode-notebook-cell:/c%3A/Users/julia/VSCode/ML/data/Multi%20Input%20Models.ipynb#W3sZmlsZQ%3D%3D?line=1'>2</a>\u001b[0m \u001b[39mprint\u001b[39m(season_data\u001b[39m.\u001b[39mhead())\n\u001b[0;32m      <a href='vscode-notebook-cell:/c%3A/Users/julia/VSCode/ML/data/Multi%20Input%20Models.ipynb#W3sZmlsZQ%3D%3D?line=3'>4</a>\u001b[0m X_train, X_test, y_train, y_test \u001b[39m=\u001b[39m train_test_split(season_data[[\u001b[39m'\u001b[39m\u001b[39mteam_1\u001b[39m\u001b[39m'\u001b[39m, \u001b[39m'\u001b[39m\u001b[39mteam_2\u001b[39m\u001b[39m'\u001b[39m, \u001b[39m'\u001b[39m\u001b[39mhome\u001b[39m\u001b[39m'\u001b[39m]], \n\u001b[0;32m      <a href='vscode-notebook-cell:/c%3A/Users/julia/VSCode/ML/data/Multi%20Input%20Models.ipynb#W3sZmlsZQ%3D%3D?line=4'>5</a>\u001b[0m                                                     season_data[\u001b[39m'\u001b[39m\u001b[39mscore_diff\u001b[39m\u001b[39m'\u001b[39m], \n\u001b[0;32m      <a href='vscode-notebook-cell:/c%3A/Users/julia/VSCode/ML/data/Multi%20Input%20Models.ipynb#W3sZmlsZQ%3D%3D?line=5'>6</a>\u001b[0m                                                     test_size\u001b[39m=\u001b[39m\u001b[39m.3\u001b[39m)\n",
      "File \u001b[1;32mc:\\Users\\julia\\anaconda3\\envs\\DataCampTutorials\\lib\\site-packages\\pandas\\util\\_decorators.py:311\u001b[0m, in \u001b[0;36mdeprecate_nonkeyword_arguments.<locals>.decorate.<locals>.wrapper\u001b[1;34m(*args, **kwargs)\u001b[0m\n\u001b[0;32m    305\u001b[0m \u001b[39mif\u001b[39;00m \u001b[39mlen\u001b[39m(args) \u001b[39m>\u001b[39m num_allow_args:\n\u001b[0;32m    306\u001b[0m     warnings\u001b[39m.\u001b[39mwarn(\n\u001b[0;32m    307\u001b[0m         msg\u001b[39m.\u001b[39mformat(arguments\u001b[39m=\u001b[39marguments),\n\u001b[0;32m    308\u001b[0m         \u001b[39mFutureWarning\u001b[39;00m,\n\u001b[0;32m    309\u001b[0m         stacklevel\u001b[39m=\u001b[39mstacklevel,\n\u001b[0;32m    310\u001b[0m     )\n\u001b[1;32m--> 311\u001b[0m \u001b[39mreturn\u001b[39;00m func(\u001b[39m*\u001b[39margs, \u001b[39m*\u001b[39m\u001b[39m*\u001b[39mkwargs)\n",
      "File \u001b[1;32mc:\\Users\\julia\\anaconda3\\envs\\DataCampTutorials\\lib\\site-packages\\pandas\\io\\parsers\\readers.py:680\u001b[0m, in \u001b[0;36mread_csv\u001b[1;34m(filepath_or_buffer, sep, delimiter, header, names, index_col, usecols, squeeze, prefix, mangle_dupe_cols, dtype, engine, converters, true_values, false_values, skipinitialspace, skiprows, skipfooter, nrows, na_values, keep_default_na, na_filter, verbose, skip_blank_lines, parse_dates, infer_datetime_format, keep_date_col, date_parser, dayfirst, cache_dates, iterator, chunksize, compression, thousands, decimal, lineterminator, quotechar, quoting, doublequote, escapechar, comment, encoding, encoding_errors, dialect, error_bad_lines, warn_bad_lines, on_bad_lines, delim_whitespace, low_memory, memory_map, float_precision, storage_options)\u001b[0m\n\u001b[0;32m    665\u001b[0m kwds_defaults \u001b[39m=\u001b[39m _refine_defaults_read(\n\u001b[0;32m    666\u001b[0m     dialect,\n\u001b[0;32m    667\u001b[0m     delimiter,\n\u001b[1;32m   (...)\u001b[0m\n\u001b[0;32m    676\u001b[0m     defaults\u001b[39m=\u001b[39m{\u001b[39m\"\u001b[39m\u001b[39mdelimiter\u001b[39m\u001b[39m\"\u001b[39m: \u001b[39m\"\u001b[39m\u001b[39m,\u001b[39m\u001b[39m\"\u001b[39m},\n\u001b[0;32m    677\u001b[0m )\n\u001b[0;32m    678\u001b[0m kwds\u001b[39m.\u001b[39mupdate(kwds_defaults)\n\u001b[1;32m--> 680\u001b[0m \u001b[39mreturn\u001b[39;00m _read(filepath_or_buffer, kwds)\n",
      "File \u001b[1;32mc:\\Users\\julia\\anaconda3\\envs\\DataCampTutorials\\lib\\site-packages\\pandas\\io\\parsers\\readers.py:575\u001b[0m, in \u001b[0;36m_read\u001b[1;34m(filepath_or_buffer, kwds)\u001b[0m\n\u001b[0;32m    572\u001b[0m _validate_names(kwds\u001b[39m.\u001b[39mget(\u001b[39m\"\u001b[39m\u001b[39mnames\u001b[39m\u001b[39m\"\u001b[39m, \u001b[39mNone\u001b[39;00m))\n\u001b[0;32m    574\u001b[0m \u001b[39m# Create the parser.\u001b[39;00m\n\u001b[1;32m--> 575\u001b[0m parser \u001b[39m=\u001b[39m TextFileReader(filepath_or_buffer, \u001b[39m*\u001b[39m\u001b[39m*\u001b[39mkwds)\n\u001b[0;32m    577\u001b[0m \u001b[39mif\u001b[39;00m chunksize \u001b[39mor\u001b[39;00m iterator:\n\u001b[0;32m    578\u001b[0m     \u001b[39mreturn\u001b[39;00m parser\n",
      "File \u001b[1;32mc:\\Users\\julia\\anaconda3\\envs\\DataCampTutorials\\lib\\site-packages\\pandas\\io\\parsers\\readers.py:934\u001b[0m, in \u001b[0;36mTextFileReader.__init__\u001b[1;34m(self, f, engine, **kwds)\u001b[0m\n\u001b[0;32m    931\u001b[0m     \u001b[39mself\u001b[39m\u001b[39m.\u001b[39moptions[\u001b[39m\"\u001b[39m\u001b[39mhas_index_names\u001b[39m\u001b[39m\"\u001b[39m] \u001b[39m=\u001b[39m kwds[\u001b[39m\"\u001b[39m\u001b[39mhas_index_names\u001b[39m\u001b[39m\"\u001b[39m]\n\u001b[0;32m    933\u001b[0m \u001b[39mself\u001b[39m\u001b[39m.\u001b[39mhandles: IOHandles \u001b[39m|\u001b[39m \u001b[39mNone\u001b[39;00m \u001b[39m=\u001b[39m \u001b[39mNone\u001b[39;00m\n\u001b[1;32m--> 934\u001b[0m \u001b[39mself\u001b[39m\u001b[39m.\u001b[39m_engine \u001b[39m=\u001b[39m \u001b[39mself\u001b[39;49m\u001b[39m.\u001b[39;49m_make_engine(f, \u001b[39mself\u001b[39;49m\u001b[39m.\u001b[39;49mengine)\n",
      "File \u001b[1;32mc:\\Users\\julia\\anaconda3\\envs\\DataCampTutorials\\lib\\site-packages\\pandas\\io\\parsers\\readers.py:1218\u001b[0m, in \u001b[0;36mTextFileReader._make_engine\u001b[1;34m(self, f, engine)\u001b[0m\n\u001b[0;32m   1214\u001b[0m     mode \u001b[39m=\u001b[39m \u001b[39m\"\u001b[39m\u001b[39mrb\u001b[39m\u001b[39m\"\u001b[39m\n\u001b[0;32m   1215\u001b[0m \u001b[39m# error: No overload variant of \"get_handle\" matches argument types\u001b[39;00m\n\u001b[0;32m   1216\u001b[0m \u001b[39m# \"Union[str, PathLike[str], ReadCsvBuffer[bytes], ReadCsvBuffer[str]]\"\u001b[39;00m\n\u001b[0;32m   1217\u001b[0m \u001b[39m# , \"str\", \"bool\", \"Any\", \"Any\", \"Any\", \"Any\", \"Any\"\u001b[39;00m\n\u001b[1;32m-> 1218\u001b[0m \u001b[39mself\u001b[39m\u001b[39m.\u001b[39mhandles \u001b[39m=\u001b[39m get_handle(  \u001b[39m# type: ignore[call-overload]\u001b[39;49;00m\n\u001b[0;32m   1219\u001b[0m     f,\n\u001b[0;32m   1220\u001b[0m     mode,\n\u001b[0;32m   1221\u001b[0m     encoding\u001b[39m=\u001b[39;49m\u001b[39mself\u001b[39;49m\u001b[39m.\u001b[39;49moptions\u001b[39m.\u001b[39;49mget(\u001b[39m\"\u001b[39;49m\u001b[39mencoding\u001b[39;49m\u001b[39m\"\u001b[39;49m, \u001b[39mNone\u001b[39;49;00m),\n\u001b[0;32m   1222\u001b[0m     compression\u001b[39m=\u001b[39;49m\u001b[39mself\u001b[39;49m\u001b[39m.\u001b[39;49moptions\u001b[39m.\u001b[39;49mget(\u001b[39m\"\u001b[39;49m\u001b[39mcompression\u001b[39;49m\u001b[39m\"\u001b[39;49m, \u001b[39mNone\u001b[39;49;00m),\n\u001b[0;32m   1223\u001b[0m     memory_map\u001b[39m=\u001b[39;49m\u001b[39mself\u001b[39;49m\u001b[39m.\u001b[39;49moptions\u001b[39m.\u001b[39;49mget(\u001b[39m\"\u001b[39;49m\u001b[39mmemory_map\u001b[39;49m\u001b[39m\"\u001b[39;49m, \u001b[39mFalse\u001b[39;49;00m),\n\u001b[0;32m   1224\u001b[0m     is_text\u001b[39m=\u001b[39;49mis_text,\n\u001b[0;32m   1225\u001b[0m     errors\u001b[39m=\u001b[39;49m\u001b[39mself\u001b[39;49m\u001b[39m.\u001b[39;49moptions\u001b[39m.\u001b[39;49mget(\u001b[39m\"\u001b[39;49m\u001b[39mencoding_errors\u001b[39;49m\u001b[39m\"\u001b[39;49m, \u001b[39m\"\u001b[39;49m\u001b[39mstrict\u001b[39;49m\u001b[39m\"\u001b[39;49m),\n\u001b[0;32m   1226\u001b[0m     storage_options\u001b[39m=\u001b[39;49m\u001b[39mself\u001b[39;49m\u001b[39m.\u001b[39;49moptions\u001b[39m.\u001b[39;49mget(\u001b[39m\"\u001b[39;49m\u001b[39mstorage_options\u001b[39;49m\u001b[39m\"\u001b[39;49m, \u001b[39mNone\u001b[39;49;00m),\n\u001b[0;32m   1227\u001b[0m )\n\u001b[0;32m   1228\u001b[0m \u001b[39massert\u001b[39;00m \u001b[39mself\u001b[39m\u001b[39m.\u001b[39mhandles \u001b[39mis\u001b[39;00m \u001b[39mnot\u001b[39;00m \u001b[39mNone\u001b[39;00m\n\u001b[0;32m   1229\u001b[0m f \u001b[39m=\u001b[39m \u001b[39mself\u001b[39m\u001b[39m.\u001b[39mhandles\u001b[39m.\u001b[39mhandle\n",
      "File \u001b[1;32mc:\\Users\\julia\\anaconda3\\envs\\DataCampTutorials\\lib\\site-packages\\pandas\\io\\common.py:786\u001b[0m, in \u001b[0;36mget_handle\u001b[1;34m(path_or_buf, mode, encoding, compression, memory_map, is_text, errors, storage_options)\u001b[0m\n\u001b[0;32m    781\u001b[0m \u001b[39melif\u001b[39;00m \u001b[39misinstance\u001b[39m(handle, \u001b[39mstr\u001b[39m):\n\u001b[0;32m    782\u001b[0m     \u001b[39m# Check whether the filename is to be opened in binary mode.\u001b[39;00m\n\u001b[0;32m    783\u001b[0m     \u001b[39m# Binary mode does not support 'encoding' and 'newline'.\u001b[39;00m\n\u001b[0;32m    784\u001b[0m     \u001b[39mif\u001b[39;00m ioargs\u001b[39m.\u001b[39mencoding \u001b[39mand\u001b[39;00m \u001b[39m\"\u001b[39m\u001b[39mb\u001b[39m\u001b[39m\"\u001b[39m \u001b[39mnot\u001b[39;00m \u001b[39min\u001b[39;00m ioargs\u001b[39m.\u001b[39mmode:\n\u001b[0;32m    785\u001b[0m         \u001b[39m# Encoding\u001b[39;00m\n\u001b[1;32m--> 786\u001b[0m         handle \u001b[39m=\u001b[39m \u001b[39mopen\u001b[39;49m(\n\u001b[0;32m    787\u001b[0m             handle,\n\u001b[0;32m    788\u001b[0m             ioargs\u001b[39m.\u001b[39;49mmode,\n\u001b[0;32m    789\u001b[0m             encoding\u001b[39m=\u001b[39;49mioargs\u001b[39m.\u001b[39;49mencoding,\n\u001b[0;32m    790\u001b[0m             errors\u001b[39m=\u001b[39;49merrors,\n\u001b[0;32m    791\u001b[0m             newline\u001b[39m=\u001b[39;49m\u001b[39m\"\u001b[39;49m\u001b[39m\"\u001b[39;49m,\n\u001b[0;32m    792\u001b[0m         )\n\u001b[0;32m    793\u001b[0m     \u001b[39melse\u001b[39;00m:\n\u001b[0;32m    794\u001b[0m         \u001b[39m# Binary mode\u001b[39;00m\n\u001b[0;32m    795\u001b[0m         handle \u001b[39m=\u001b[39m \u001b[39mopen\u001b[39m(handle, ioargs\u001b[39m.\u001b[39mmode)\n",
      "\u001b[1;31mFileNotFoundError\u001b[0m: [Errno 2] No such file or directory: './data/games_season.csv'"
     ]
    }
   ],
   "source": [
    "season_data = pd.read_csv('./data/games_season.csv')\n",
    "print(season_data.head())\n",
    "\n",
    "X_train, X_test, y_train, y_test = train_test_split(season_data[['team_1', 'team_2', 'home']], \n",
    "                                                    season_data['score_diff'], \n",
    "                                                    test_size=.3)\n",
    "\n",
    "n_teams = pd.unique(season_data['team_1']).shape[0]\n",
    "print(n_teams)"
   ]
  },
  {
   "cell_type": "code",
   "execution_count": null,
   "metadata": {},
   "outputs": [],
   "source": [
    "input_tensor = Input(shape=(1, ))\n",
    "\n",
    "teams_ratings = Embedding(\n",
    "    input_dim=n_teams,\n",
    "    output_dim=1,\n",
    "    input_length=1,\n",
    "    name='Team-Strength-Lookup'\n",
    ")\n",
    "\n",
    "embed_tensor = teams_ratings(input_tensor)\n",
    "flatten_tensor = Flatten()(embed_tensor)\n",
    "model = Model(input_tensor, flatten_tensor)\n",
    "\n",
    "\n",
    "input_1 = Input(shape=(1, ))\n",
    "input_2 = Input(shape=(1, ))\n",
    "input_3 = Input(shape=(1, ))\n",
    "\n",
    "output_tensor_1 = model(input_1)\n",
    "output_tensor_2 = model(input_2)\n",
    "\n",
    "concat_layer = Concatenate()([output_tensor_1, output_tensor_2, input_3])\n",
    "\n",
    "out_layer = Dense(1)(concat_layer)\n",
    "\n",
    "regular_season_model = Model([input_1, input_2, input_3], out_layer)\n",
    "\n",
    "regular_season_model.compile(optimizer='adam', loss='mean_absolute_error')"
   ]
  },
  {
   "cell_type": "code",
   "execution_count": null,
   "metadata": {},
   "outputs": [
    {
     "name": "stdout",
     "output_type": "stream",
     "text": [
      "Epoch 1/10\n",
      "97/97 [==============================] - 2s 8ms/step - loss: 12.0383 - val_loss: 12.2050\n",
      "Epoch 2/10\n",
      "97/97 [==============================] - 0s 5ms/step - loss: 12.0198 - val_loss: 12.1854\n",
      "Epoch 3/10\n",
      "97/97 [==============================] - 0s 4ms/step - loss: 11.9948 - val_loss: 12.1597\n",
      "Epoch 4/10\n",
      "97/97 [==============================] - 0s 4ms/step - loss: 11.9621 - val_loss: 12.1274\n",
      "Epoch 5/10\n",
      "97/97 [==============================] - 0s 3ms/step - loss: 11.9217 - val_loss: 12.0888\n",
      "Epoch 6/10\n",
      "97/97 [==============================] - 0s 4ms/step - loss: 11.8745 - val_loss: 12.0447\n",
      "Epoch 7/10\n",
      "97/97 [==============================] - 0s 4ms/step - loss: 11.8204 - val_loss: 11.9948\n",
      "Epoch 8/10\n",
      "97/97 [==============================] - 0s 4ms/step - loss: 11.7594 - val_loss: 11.9391\n",
      "Epoch 9/10\n",
      "97/97 [==============================] - 0s 4ms/step - loss: 11.6914 - val_loss: 11.8779\n",
      "Epoch 10/10\n",
      "97/97 [==============================] - 0s 5ms/step - loss: 11.6171 - val_loss: 11.8116\n"
     ]
    }
   ],
   "source": [
    "epochs = 10\n",
    "\n",
    "history = regular_season_model.fit([X_train['team_1'], X_train['team_2'], \n",
    "                                    X_train['home']], \n",
    "                          y_train, \n",
    "                          batch_size=2048,\n",
    "                          epochs=epochs, \n",
    "                          validation_split=.1)"
   ]
  },
  {
   "cell_type": "code",
   "execution_count": null,
   "metadata": {},
   "outputs": [
    {
     "data": {
      "image/png": "[encoded data removed]",
      "text/plain": [
       "<Figure size 432x288 with 1 Axes>"
      ]
     },
     "metadata": {
      "needs_background": "light"
     },
     "output_type": "display_data"
    }
   ],
   "source": [
    "plt.plot(np.arange(epochs), history.history['loss'], label='training loss')\n",
    "plt.plot(np.arange(epochs), history.history['val_loss'], label='validation loss')\n",
    "\n",
    "plt.legend()\n",
    "_ = plt.title('Model Training')"
   ]
  },
  {
   "cell_type": "code",
   "execution_count": null,
   "metadata": {},
   "outputs": [
    {
     "name": "stdout",
     "output_type": "stream",
     "text": [
      "732/732 [==============================] - 2s 2ms/step - loss: 11.6856\n"
     ]
    }
   ],
   "source": [
    "# We could have evaluated this on the /data/games_season.csv data\n",
    "results = regular_season_model.evaluate([X_test['team_1'], X_test['team_2'], \n",
    "                                         X_test['home']], y_test,\n",
    "                               batch_size=128)"
   ]
  },
  {
   "cell_type": "code",
   "execution_count": null,
   "metadata": {},
   "outputs": [
    {
     "name": "stdout",
     "output_type": "stream",
     "text": [
      "34/34 [==============================] - 0s 2ms/step - loss: 11.5600\n"
     ]
    },
    {
     "data": {
      "text/plain": [
       "11.560022354125977"
      ]
     },
     "execution_count": 55,
     "metadata": {},
     "output_type": "execute_result"
    }
   ],
   "source": [
    "tourney_data = pd.read_csv('./data/games_tourney.csv')\n",
    "\n",
    "regular_season_model.evaluate([tourney_data['team_1'], tourney_data['team_2'],\n",
    "                               tourney_data['home']],\n",
    "                     tourney_data['score_diff'], batch_size=128)"
   ]
  },
  {
   "attachments": {},
   "cell_type": "markdown",
   "metadata": {},
   "source": [
    "Note that the embedding layer adds a lot of parameters (mapping integers -> floats)"
   ]
  },
  {
   "cell_type": "code",
   "execution_count": null,
   "metadata": {},
   "outputs": [
    {
     "name": "stdout",
     "output_type": "stream",
     "text": [
      "Model: \"model_19\"\n",
      "_________________________________________________________________\n",
      " Layer (type)                Output Shape              Param #   \n",
      "=================================================================\n",
      " input_42 (InputLayer)       [(None, 1)]               0         \n",
      "                                                                 \n",
      " Team-Strength-Lookup (Embed  (None, 1, 1)             10888     \n",
      " ding)                                                           \n",
      "                                                                 \n",
      " flatten_9 (Flatten)         (None, 1)                 0         \n",
      "                                                                 \n",
      "=================================================================\n",
      "Total params: 10,888\n",
      "Trainable params: 10,888\n",
      "Non-trainable params: 0\n",
      "_________________________________________________________________\n"
     ]
    }
   ],
   "source": [
    "model.summary()"
   ]
  },
  {
   "cell_type": "code",
   "execution_count": null,
   "metadata": {},
   "outputs": [
    {
     "data": {
      "text/plain": [
       "<matplotlib.image.AxesImage at 0x218efe7c490>"
      ]
     },
     "execution_count": 57,
     "metadata": {},
     "output_type": "execute_result"
    },
    {
     "data": {
      "image/png": "[encoded data removed]",
      "text/plain": [
       "<Figure size 432x288 with 1 Axes>"
      ]
     },
     "metadata": {
      "needs_background": "light"
     },
     "output_type": "display_data"
    }
   ],
   "source": [
    "plot_model(regular_season_model, to_file='./data/model.png')\n",
    "\n",
    "data = plt.imread('./data/model.png')\n",
    "plt.imshow(data)"
   ]
  },
  {
   "cell_type": "code",
   "execution_count": null,
   "metadata": {},
   "outputs": [
    {
     "name": "stdout",
     "output_type": "stream",
     "text": [
      "32/32 [==============================] - 0s 2ms/step - loss: 1.9242e-08\n"
     ]
    },
    {
     "data": {
      "text/plain": [
       "<keras.callbacks.History at 0x218f49f81f0>"
      ]
     },
     "execution_count": 58,
     "metadata": {},
     "output_type": "execute_result"
    }
   ],
   "source": [
    "input_1 = Input(shape=(1, ))\n",
    "input_2 = Input(shape=(1, ))\n",
    "\n",
    "multiply_layer = Multiply()([input_1, input_2])\n",
    "\n",
    "mock_model = Model([input_1, input_2], multiply_layer)\n",
    "\n",
    "X = np.random.normal(size=(1000, 2))\n",
    "y = X[:, 0] * X[:, 1]\n",
    "\n",
    "mock_model.compile(optimizer='sgd', loss='mean_absolute_error')\n",
    "\n",
    "mock_model.fit([X[:, 0], X[:, 1]], y)"
   ]
  },
  {
   "cell_type": "code",
   "execution_count": null,
   "metadata": {},
   "outputs": [
    {
     "name": "stdout",
     "output_type": "stream",
     "text": [
      "1/1 [==============================] - 0s 57ms/step\n"
     ]
    },
    {
     "data": {
      "text/plain": [
       "array([[20.]], dtype=float32)"
      ]
     },
     "execution_count": 59,
     "metadata": {},
     "output_type": "execute_result"
    }
   ],
   "source": [
    "mock_model.predict([np.array([[5]]), np.array([[4]])])"
   ]
  },
  {
   "attachments": {},
   "cell_type": "markdown",
   "metadata": {},
   "source": [
    "### Stacking Models\n",
    "\n",
    "Stacking models is a technique of building a model which as an input takes in predictions from different model. The datasets on which they are trained should be disjoint. "
   ]
  },
  {
   "cell_type": "code",
   "execution_count": null,
   "metadata": {},
   "outputs": [
    {
     "name": "stdout",
     "output_type": "stream",
     "text": [
      "133/133 [==============================] - 0s 3ms/step\n",
      "Epoch 1/10\n",
      "15/15 [==============================] - 1s 23ms/step - loss: 9.2025 - val_loss: 8.8558\n",
      "Epoch 2/10\n",
      "15/15 [==============================] - 0s 7ms/step - loss: 9.2016 - val_loss: 8.8547\n",
      "Epoch 3/10\n",
      "15/15 [==============================] - 0s 8ms/step - loss: 9.2010 - val_loss: 8.8539\n",
      "Epoch 4/10\n",
      "15/15 [==============================] - 0s 7ms/step - loss: 9.2007 - val_loss: 8.8535\n",
      "Epoch 5/10\n",
      "15/15 [==============================] - 0s 6ms/step - loss: 9.1999 - val_loss: 8.8525\n",
      "Epoch 6/10\n",
      "15/15 [==============================] - 0s 6ms/step - loss: 9.1994 - val_loss: 8.8515\n",
      "Epoch 7/10\n",
      "15/15 [==============================] - 0s 6ms/step - loss: 9.1991 - val_loss: 8.8510\n",
      "Epoch 8/10\n",
      "15/15 [==============================] - 0s 7ms/step - loss: 9.1985 - val_loss: 8.8501\n",
      "Epoch 9/10\n",
      "15/15 [==============================] - 0s 6ms/step - loss: 9.1979 - val_loss: 8.8492\n",
      "Epoch 10/10\n",
      "15/15 [==============================] - 0s 6ms/step - loss: 9.1976 - val_loss: 8.8489\n"
     ]
    },
    {
     "data": {
      "text/plain": [
       "<keras.callbacks.History at 0x218f009e2c0>"
      ]
     },
     "execution_count": 63,
     "metadata": {},
     "output_type": "execute_result"
    }
   ],
   "source": [
    "input_tensor = Input(shape=(3,))\n",
    "\n",
    "output_tensor = Dense(1)(input_tensor)\n",
    "\n",
    "tourney_model = Model(input_tensor, output_tensor)\n",
    "\n",
    "tourney_data['pred'] = regular_season_model.predict([tourney_data['team_1'], \n",
    "                                                     tourney_data['team_2'], \n",
    "                                                     tourney_data['home']])\n",
    "\n",
    "tourney_model.compile(optimizer='adam', loss='mean_absolute_error')\n",
    "\n",
    "epochs = 10\n",
    "\n",
    "tourney_model.fit(tourney_data[['seed_diff', 'home', 'pred']], \n",
    "                 tourney_data['score_diff'], \n",
    "                 batch_size=256, \n",
    "                 validation_split=.1,\n",
    "                 epochs=epochs)"
   ]
  },
  {
   "attachments": {},
   "cell_type": "markdown",
   "metadata": {},
   "source": [
    "### Multi Output Models\n",
    "\n",
    "We'll build a model which performs classification and regression at the same time. "
   ]
  },
  {
   "cell_type": "code",
   "execution_count": null,
   "metadata": {},
   "outputs": [
    {
     "ename": "NameError",
     "evalue": "name 'tourney_data' is not defined",
     "output_type": "error",
     "traceback": [
      "\u001b[1;31m---------------------------------------------------------------------------\u001b[0m",
      "\u001b[1;31mNameError\u001b[0m                                 Traceback (most recent call last)",
      "\u001b[1;32mc:\\Users\\julia\\VSCode\\ML\\data\\Multi Input Models.ipynb Cell 17\u001b[0m in \u001b[0;36m<cell line: 1>\u001b[1;34m()\u001b[0m\n\u001b[1;32m----> <a href='vscode-notebook-cell:/c%3A/Users/julia/VSCode/ML/data/Multi%20Input%20Models.ipynb#X25sZmlsZQ%3D%3D?line=0'>1</a>\u001b[0m tourney_data\u001b[39m.\u001b[39mmean()\n",
      "\u001b[1;31mNameError\u001b[0m: name 'tourney_data' is not defined"
     ]
    }
   ],
   "source": [
    "tourney_data.mean()"
   ]
  },
  {
   "cell_type": "code",
   "execution_count": null,
   "metadata": {},
   "outputs": [],
   "source": [
    "input_tensor = Input(shape=(2,))\n",
    "\n",
    "output_tensor_reg = Dense(1, activation='linear', use_bias=False)(input_tensor)\n",
    "output_tensor_prob = Dense(1, activation='sigmoid', use_bias=False)(output_tensor_reg)\n",
    "\n"
   ]
  }
 ],
 "metadata": {
  "kernelspec": {
   "display_name": "DataCampTutorials",
   "language": "python",
   "name": "python3"
  },
  "language_info": {
   "codemirror_mode": {
    "name": "ipython",
    "version": 3
   },
   "file_extension": ".py",
   "mimetype": "text/x-python",
   "name": "python",
   "nbconvert_exporter": "python",
   "pygments_lexer": "ipython3",
   "version": "3.10.4"
  },
  "orig_nbformat": 4
 },
 "nbformat": 4,
 "nbformat_minor": 2
}
