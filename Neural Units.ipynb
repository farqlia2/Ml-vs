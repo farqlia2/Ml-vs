{
 "cells": [
  {
   "cell_type": "code",
   "execution_count": 2,
   "metadata": {},
   "outputs": [
    {
     "name": "stderr",
     "output_type": "stream",
     "text": [
      "c:\\Users\\julia\\anaconda3\\envs\\DataCampTutorials\\lib\\site-packages\\scipy\\__init__.py:146: UserWarning: A NumPy version >=1.16.5 and <1.23.0 is required for this version of SciPy (detected version 1.24.2\n",
      "  warnings.warn(f\"A NumPy version >={np_minversion} and <{np_maxversion}\"\n"
     ]
    }
   ],
   "source": [
    "from sklearn.linear_model import Perceptron\n",
    "from sklearn.datasets import load_iris\n",
    "import numpy as np\n",
    "import matplotlib.pyplot as plt"
   ]
  },
  {
   "attachments": {},
   "cell_type": "markdown",
   "metadata": {},
   "source": [
    "### Perceptron\n",
    "\n",
    "Perceptron is the simplest NN architecture. It may take in multiple inputs and spits a single binary output. It consists of one layer and may learn only linear patterns. It's learning is similar to that of SGD since it updates weights based on the prediction error. However for that purpose the Logistic Regression is much more feasible since it returns probabilities. "
   ]
  },
  {
   "cell_type": "code",
   "execution_count": 3,
   "metadata": {},
   "outputs": [
    {
     "data": {
      "text/plain": [
       "<matplotlib.collections.PathCollection at 0x21a733a5c60>"
      ]
     },
     "execution_count": 3,
     "metadata": {},
     "output_type": "execute_result"
    },
    {
     "data": {
      "image/png": "[encoded data removed]",
      "text/plain": [
       "<Figure size 432x288 with 1 Axes>"
      ]
     },
     "metadata": {
      "needs_background": "light"
     },
     "output_type": "display_data"
    }
   ],
   "source": [
    "X = np.linspace(-5, 5, 50)\n",
    "y = (1 / (1 + np.exp(-X))).round().astype('int')\n",
    "\n",
    "per_clf = Perceptron()\n",
    "per_clf.fit(X.reshape(-1, 1), y)\n",
    "plt.plot(X, y)\n",
    "X_test = np.array([-1.23, 0.00000004, 1.45])\n",
    "plt.scatter(X_test, per_clf.predict(X_test.reshape(-1, 1)), c='red')"
   ]
  },
  {
   "attachments": {},
   "cell_type": "markdown",
   "metadata": {},
   "source": [
    "Perceptron doesn't really make sense since changes to weights & biases may result in drastic changes to the output (fluctuates between 0 and 1). "
   ]
  },
  {
   "attachments": {},
   "cell_type": "markdown",
   "metadata": {},
   "source": [
    "#### Activation Functions "
   ]
  },
  {
   "cell_type": "code",
   "execution_count": 4,
   "metadata": {},
   "outputs": [
    {
     "data": {
      "text/plain": [
       "<matplotlib.legend.Legend at 0x21a734ba560>"
      ]
     },
     "execution_count": 4,
     "metadata": {},
     "output_type": "execute_result"
    },
    {
     "data": {
      "image/png": "[encoded data removed]",
      "text/plain": [
       "<Figure size 432x288 with 1 Axes>"
      ]
     },
     "metadata": {
      "needs_background": "light"
     },
     "output_type": "display_data"
    }
   ],
   "source": [
    "def sigmoid(x):\n",
    "    return 1 / (1 + np.exp(-x))\n",
    "\n",
    "def ReLU(x):\n",
    "    return np.max(np.c_[np.zeros(len(x)), x], axis=1)\n",
    "\n",
    "def tanhn(x):\n",
    "    return np.tanh(x)\n",
    "\n",
    "x = np.linspace(-1, 1, 10)\n",
    "plt.plot(x, sigmoid(x), label='sigmoid')\n",
    "plt.plot(x, ReLU(x), label='ReLU')\n",
    "plt.plot(x, tanhn(x), label='tanhn')\n",
    "plt.legend()"
   ]
  },
  {
   "attachments": {},
   "cell_type": "markdown",
   "metadata": {},
   "source": [
    "##### Softmax Function\n",
    "\n",
    "It is a function used to scale outputs of the last layer into probablities for multi-classification problem. $$ f(z) = \\frac{e^{z_i}}{\\sum_{j=1}^K e^{z_j}}$$"
   ]
  },
  {
   "cell_type": "code",
   "execution_count": 10,
   "metadata": {},
   "outputs": [
    {
     "name": "stdout",
     "output_type": "stream",
     "text": [
      "[[0.00242826]\n",
      " [0.01794253]\n",
      " [0.97962921]]\n",
      "-1.0\n",
      "0.1353352832366127\n"
     ]
    }
   ],
   "source": [
    "outputs = np.array([[-1], [1], [5.0]])\n",
    "\n",
    "def softmax(x):\n",
    "    return np.exp(x) / np.sum(np.exp(x))\n",
    "\n",
    "prob = softmax(outputs)\n",
    "print(prob)\n",
    "\n",
    "print(outputs[0, 0] / outputs[1, 0])\n",
    "# Softmax has tendency to produce values either very close to 0 or close to 1\n",
    "print(prob[0, 0] / prob[1, 0])"
   ]
  },
  {
   "cell_type": "code",
   "execution_count": null,
   "metadata": {},
   "outputs": [],
   "source": []
  }
 ],
 "metadata": {
  "kernelspec": {
   "display_name": "DataCampTutorials",
   "language": "python",
   "name": "python3"
  },
  "language_info": {
   "codemirror_mode": {
    "name": "ipython",
    "version": 3
   },
   "file_extension": ".py",
   "mimetype": "text/x-python",
   "name": "python",
   "nbconvert_exporter": "python",
   "pygments_lexer": "ipython3",
   "version": "3.10.4"
  },
  "orig_nbformat": 4
 },
 "nbformat": 4,
 "nbformat_minor": 2
}
